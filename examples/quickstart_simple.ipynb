{
 "cells": [
  {
   "cell_type": "markdown",
   "metadata": {},
   "source": [
    "# Simple Quickstart\n",
    "This quickstart is based on the one from the readme. It is only to be used as a starting point / example for how to use Tonic Validate."
   ]
  },
  {
   "cell_type": "code",
   "execution_count": 3,
   "metadata": {},
   "outputs": [],
   "source": [
    "from tonic_validate import ValidateScorer\n",
    "from tonic_validate.classes.benchmark import BenchmarkItem\n",
    "\n",
    "# Create a list of questions (required) and answers (optional) for scoring the LLM's performance\n",
    "benchmark: list[BenchmarkItem] = [\n",
    "    {\"question\": \"What is the capital of France?\", \"answer\": \"Paris\"},\n",
    "    {\"question\": \"What is the capital of Germany?\", \"answer\": \"Berlin\"},\n",
    "]\n",
    "\n",
    "# Function to simulate getting a response and context from your LLM\n",
    "# Replace this with your actual function call\n",
    "def get_llm_response(question):\n",
    "    # Simulating a response from the LLM\n",
    "    # In your actual implementation, this will call your LLM\n",
    "    return \"Paris\", [\"Paris is the capital of France.\"]  # Example response and context\n",
    "\n",
    "# Score the responses\n",
    "scorer = ValidateScorer()\n",
    "run = scorer.score(benchmark, get_llm_response, scoring_parallelism=2, callback_parallelism=2)"
   ]
  },
  {
   "cell_type": "code",
   "execution_count": 4,
   "metadata": {},
   "outputs": [
    {
     "name": "stdout",
     "output_type": "stream",
     "text": [
      "Run(overall_scores={'answer_similarity': 5.0, 'augmentation_precision': 1.0, 'answer_consistency': 1.0}, run_data=[RunData(scores={'answer_similarity': 5.0, 'augmentation_precision': 1.0, 'answer_consistency': 1.0}, reference_question='What is the capital of France?', reference_answer='Paris', llm_answer='Paris', llm_context=['Paris is the capital of France.']), RunData(scores={'answer_similarity': 5.0, 'augmentation_precision': 1.0, 'answer_consistency': 1.0}, reference_question='What is the capital of France?', reference_answer='Paris', llm_answer='Paris', llm_context=['Paris is the capital of France.']), RunData(scores={'answer_similarity': 5.0, 'augmentation_precision': 1.0, 'answer_consistency': 1.0}, reference_question='What is the capital of France?', reference_answer='Paris', llm_answer='Paris', llm_context=['Paris is the capital of France.']), RunData(scores={'answer_similarity': 5.0, 'augmentation_precision': 1.0, 'answer_consistency': 1.0}, reference_question='What is the capital of France?', reference_answer='Paris', llm_answer='Paris', llm_context=['Paris is the capital of France.']), RunData(scores={'answer_similarity': 5.0, 'augmentation_precision': 1.0, 'answer_consistency': 1.0}, reference_question='What is the capital of France?', reference_answer='Paris', llm_answer='Paris', llm_context=['Paris is the capital of France.']), RunData(scores={'answer_similarity': 5.0, 'augmentation_precision': 1.0, 'answer_consistency': 1.0}, reference_question='What is the capital of France?', reference_answer='Paris', llm_answer='Paris', llm_context=['Paris is the capital of France.']), RunData(scores={'answer_similarity': 5.0, 'augmentation_precision': 1.0, 'answer_consistency': 1.0}, reference_question='What is the capital of France?', reference_answer='Paris', llm_answer='Paris', llm_context=['Paris is the capital of France.']), RunData(scores={'answer_similarity': 5.0, 'augmentation_precision': 1.0, 'answer_consistency': 1.0}, reference_question='What is the capital of France?', reference_answer='Paris', llm_answer='Paris', llm_context=['Paris is the capital of France.']), RunData(scores={'answer_similarity': 5.0, 'augmentation_precision': 1.0, 'answer_consistency': 1.0}, reference_question='What is the capital of France?', reference_answer='Paris', llm_answer='Paris', llm_context=['Paris is the capital of France.']), RunData(scores={'answer_similarity': 5.0, 'augmentation_precision': 1.0, 'answer_consistency': 1.0}, reference_question='What is the capital of France?', reference_answer='Paris', llm_answer='Paris', llm_context=['Paris is the capital of France.'])], id=None)\n"
     ]
    }
   ],
   "source": [
    "print(run)"
   ]
  }
 ],
 "metadata": {
  "kernelspec": {
   "display_name": "Python 3",
   "language": "python",
   "name": "python3"
  },
  "language_info": {
   "codemirror_mode": {
    "name": "ipython",
    "version": 3
   },
   "file_extension": ".py",
   "mimetype": "text/x-python",
   "name": "python",
   "nbconvert_exporter": "python",
   "pygments_lexer": "ipython3",
   "version": "3.11.7"
  }
 },
 "nbformat": 4,
 "nbformat_minor": 2
}
