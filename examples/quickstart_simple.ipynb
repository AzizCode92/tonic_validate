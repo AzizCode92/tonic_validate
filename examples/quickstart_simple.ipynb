{
 "cells": [
  {
   "cell_type": "markdown",
   "metadata": {},
   "source": [
    "# Simple Quickstart\n",
    "This quickstart is based on the one from the readme. It is only to be used as a starting point / example for how to use Tonic Validate."
   ]
  },
  {
   "cell_type": "code",
   "execution_count": 1,
   "metadata": {},
   "outputs": [],
   "source": [
    "from tonic_validate import ValidateScorer, Benchmark\n",
    "\n",
    "# Function to simulate getting a response and context from your LLM\n",
    "# Replace this with your actual function call\n",
    "def get_rag_response(question):\n",
    "    return {\n",
    "        \"llm_answer\": \"Paris\",\n",
    "        \"llm_context_list\": [\"Paris is the capital of France.\"]\n",
    "    }\n",
    "\n",
    "benchmark = Benchmark(questions=[\"What is the capital of France?\"], answers=[\"Paris\"])\n",
    "# Score the responses for each question and answer pair\n",
    "scorer = ValidateScorer()\n",
    "run = scorer.score(benchmark, get_rag_response)"
   ]
  },
  {
   "cell_type": "code",
   "execution_count": 2,
   "metadata": {},
   "outputs": [
    {
     "name": "stdout",
     "output_type": "stream",
     "text": [
      "Run(overall_scores={'answer_similarity': 5.0, 'augmentation_precision': 1.0, 'answer_consistency': 1.0}, run_data=[RunData(scores={'answer_similarity': 5.0, 'augmentation_precision': 1.0, 'answer_consistency': 1.0}, reference_question='What is the capital of France?', reference_answer='Paris', llm_answer='Paris', llm_context=['Paris is the capital of France.'])], id=None)\n"
     ]
    }
   ],
   "source": [
    "print(run)"
   ]
  },
  {
   "cell_type": "markdown",
   "metadata": {},
   "source": [
    "## Manually passing in responses"
   ]
  },
  {
   "cell_type": "code",
   "execution_count": 3,
   "metadata": {},
   "outputs": [],
   "source": [
    "from tonic_validate import ValidateScorer, Benchmark, LLMResponse\n",
    "\n",
    "# Create a list of questions (required) and answers (optional) for scoring the LLM's performance\n",
    "benchmark = Benchmark(\n",
    "    questions=[\"What is the capital of France?\"],\n",
    "    answers=[\"Paris\"]\n",
    ")\n",
    "\n",
    "# Function to simulate getting a response and context from your LLM\n",
    "# Replace this with your actual function call\n",
    "def get_rag_response(question):\n",
    "    return {\n",
    "        \"llm_answer\": \"Paris\",\n",
    "        \"llm_context_list\": [\"Paris is the capital of France.\"]\n",
    "    }\n",
    "\n",
    "# Save the responses into an array for scoring\n",
    "responses = []\n",
    "for item in benchmark:\n",
    "    rag_response = get_rag_response(item.question)\n",
    "    llm_response = LLMResponse(\n",
    "        llm_answer=rag_response[\"llm_answer\"],\n",
    "        llm_context_list=rag_response[\"llm_context_list\"],\n",
    "        benchmark_item=item\n",
    "    )\n",
    "    responses.append(llm_response)\n",
    "\n",
    "# Score the responses\n",
    "scorer = ValidateScorer()\n",
    "run = scorer.score_responses(responses)"
   ]
  }
 ],
 "metadata": {
  "kernelspec": {
   "display_name": "Python 3",
   "language": "python",
   "name": "python3"
  },
  "language_info": {
   "codemirror_mode": {
    "name": "ipython",
    "version": 3
   },
   "file_extension": ".py",
   "mimetype": "text/x-python",
   "name": "python",
   "nbconvert_exporter": "python",
   "pygments_lexer": "ipython3",
   "version": "3.11.7"
  }
 },
 "nbformat": 4,
 "nbformat_minor": 2
}
