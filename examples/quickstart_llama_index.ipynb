{
 "cells": [
  {
   "cell_type": "markdown",
   "id": "074e394b",
   "metadata": {},
   "source": [
    "# Llama Index Quick Start Example\n",
    "\n",
    "In the spirit of [Llama Index's starter tutorial](https://gpt-index.readthedocs.io/en/stable/getting_started/starter_example.html) and Andrej Karpathy's [Unreasonable Effectiveness of RNNs blog post](http://karpathy.github.io/2015/05/21/rnn-effectiveness/), we start with an example of a RAG system where the document set consists of Paul Graham essays. (Footnote: The Paul Graham essay text files used were derived from the dataset of Paul Graham essays found in [paul-graham-gpt](https://github.com/mckaywrigley/paul-graham-gpt) github project.)\n",
    "\n",
    "In this notebook, we set up a simple RAG system using llama index, and evaluate the RAG system using 10 predetermined questions and answers about Paul Graham essays. The Paul Graham essays that make up the document set are the 6 essays that have the word founder in the title."
   ]
  },
  {
   "cell_type": "markdown",
   "id": "c0b3ee69",
   "metadata": {},
   "source": [
    "Set up a simple llama index RAG system that uses the default LlamaIndex parameters. The default LlamaIndex parameters use Open AIs ada-002 embedding model as the embedder and gpt-3.5-turbo as the LLM."
   ]
  },
  {
   "cell_type": "code",
   "execution_count": 1,
   "id": "14c362a3",
   "metadata": {},
   "outputs": [],
   "source": [
    "from llama_index import VectorStoreIndex, SimpleDirectoryReader\n",
    "\n",
    "documents = SimpleDirectoryReader(\"./paul_graham_essays\").load_data()\n",
    "index = VectorStoreIndex.from_documents(documents)\n",
    "query_engine = index.as_query_engine()\n",
    "\n",
    "# Gets the response from llama index\n",
    "def get_llama_response(prompt):\n",
    "    response = query_engine.query(prompt)\n",
    "    context = [x.text for x in response.source_nodes]\n",
    "    return {\n",
    "        \"llm_answer\": response.response,\n",
    "        \"llm_context_list\": context\n",
    "    }"
   ]
  },
  {
   "cell_type": "markdown",
   "id": "45f08b09",
   "metadata": {},
   "source": [
    "Load 10 questions and answers about the Paul Graham essays as a benchmark for how the RAG system should answer questions."
   ]
  },
  {
   "cell_type": "code",
   "execution_count": 2,
   "id": "c945cbab",
   "metadata": {},
   "outputs": [],
   "source": [
    "import json\n",
    "qa_pairs = []\n",
    "with open(\"question_and_answer_list.json\", \"r\") as qa_file:\n",
    "    qa_pairs = json.load(qa_file)[:10]"
   ]
  },
  {
   "cell_type": "markdown",
   "id": "c79df11d",
   "metadata": {},
   "source": [
    "Let's inspect an example, question, answer from the RAG system and reference answer."
   ]
  },
  {
   "cell_type": "code",
   "execution_count": 3,
   "id": "8cdbf45a",
   "metadata": {},
   "outputs": [
    {
     "data": {
      "text/plain": [
       "{'question': 'What makes Sam Altman a good founder?',\n",
       " 'answer': 'He has a great force of will.',\n",
       " 'reference_article': 'Five Founders',\n",
       " 'reference_text': '5. Sam Altman\\n\\nI was told I shouldn\\'t mention founders of YC-funded companies in this list. But Sam Altman can\\'t be stopped by such flimsy rules. If he wants to be on this list, he\\'s going to be.\\n\\nHonestly, Sam is, along with Steve Jobs, the founder I refer to most when I\\'m advising startups. On questions of design, I ask \"What would Steve do?\" but on questions of strategy or ambition I ask \"What would Sama do?\"\\n\\nWhat I learned from meeting Sama is that the doctrine of the elect applies to startups. It applies way less than most people think: startup investing does not consist of trying to pick winners the way you might in a horse race. But there are a few people with such force of will that they\\'re going to get whatever they want.'}"
      ]
     },
     "execution_count": 3,
     "metadata": {},
     "output_type": "execute_result"
    }
   ],
   "source": [
    "example_qa = qa_pairs[0]\n",
    "example_qa"
   ]
  },
  {
   "cell_type": "code",
   "execution_count": 4,
   "id": "94b57275",
   "metadata": {},
   "outputs": [
    {
     "data": {
      "text/plain": [
       "{'llm_answer': \"Sam Altman is considered a good founder because he possesses qualities that are highly valued in the startup world. He is known for his force of will and determination, which are crucial qualities for overcoming obstacles and persevering in the face of challenges. Additionally, Altman is known for his strategic thinking and ambition, which make him a valuable advisor for startups. His ability to think outside the box and come up with innovative ideas is also highly regarded. Altman's success and influence in the startup community make him a noteworthy founder.\",\n",
       " 'llm_context_list': ['Five Founders\\n\\nApril 2009\\n\\nInc recently asked me who I thought were the 5 most interesting startup founders of the last 30 years. How do you decide who\\'s the most interesting? The best test seemed to be influence: who are the 5 who\\'ve influenced me most? Who do I use as examples when I\\'m talking to companies we fund? Who do I find myself quoting?1. Steve JobsI\\'d guess Steve is the most influential founder not just for me but for most people you could ask. A lot of startup culture is Apple culture. He was the original young founder. And while the concept of \"insanely great\" already existed in the arts, it was a novel idea to introduce into a company in the 1980s. More remarkable still, he\\'s stayed interesting for 30 years. People await new Apple products the way they\\'d await new books by a popular novelist. Steve may not literally design them, but they wouldn\\'t happen if he weren\\'t CEO. Steve is clever and driven, but so are a lot of people in the Valley. What makes him unique is his sense of design. Before him, most companies treated design as a frivolous extra. Apple\\'s competitors now know better.2. TJ RodgersTJ Rodgers isn\\'t as famous as Steve Jobs, but he may be the best writer among Silicon Valley CEOs. I\\'ve probably learned more from him about the startup way of thinking than from anyone else. Not so much from specific things he\\'s written as by reconstructing the mind that produced them: brutally candid; aggressively garbage-collecting outdated ideas; and yet driven by pragmatism rather than ideology. The first essay of his that I read was so electrifying that I remember exactly where I was at the time. It was High Technology Innovation: Free Markets or Government Subsidies? and I was downstairs in the Harvard Square T Station. It felt as if someone had flipped on a light switch inside my head.3. Larry & SergeyI\\'m sorry to treat Larry and Sergey as one person. I\\'ve always thought that was unfair to them. But it does seem as if Google was a collaboration. Before Google, companies in Silicon Valley already knew it was important to have the best hackers. So they claimed, at least. But Google pushed this idea further than anyone had before. Their hypothesis seems to have been that, in the initial stages at least, all you need is good hackers: if you hire all the smartest people and put them to work on a problem where their success can be measured, you win. All the other stuff—which includes all the stuff that business schools think business consists of—you can figure out along the way. The results won\\'t be perfect, but they\\'ll be optimal. If this was their hypothesis, it\\'s now been verified experimentally.4. Paul BuchheitFew know this, but one person, Paul Buchheit, is responsible for three of the best things Google has done. He was the original author of GMail, which is the most impressive thing Google has after search. He also wrote the first prototype of AdSense, and was the author of Google\\'s mantra \"Don\\'t be evil.\"PB made a point in a talk once that I now mention to every startup we fund: that it\\'s better, initially, to make a small number of users really love you than a large number kind of like you. If I could tell startups only ten sentences, this would be one of them. Now he\\'s cofounder of a startup called Friendfeed. It\\'s only a year old, but already everyone in the Valley is watching them. Someone responsible for three of the biggest ideas at Google is going to come up with more.5. Sam AltmanI was told I shouldn\\'t mention founders of YC-funded companies in this list. But Sam Altman can\\'t be stopped by such flimsy rules. If he wants to be on this list, he\\'s going to be. Honestly, Sam is, along with Steve Jobs, the founder I refer to most when I\\'m advising startups. On questions of design, I ask \"What would Steve do?\" but on questions of strategy or ambition I ask \"What would Sama do?\"What I learned from meeting Sama is that the doctrine of the elect applies to startups. It applies way less than most people think: startup investing does not consist of trying to pick winners the way you might in a horse race. But there are a few people with such force of will that they\\'re going to get whatever they want.',\n",
       "  'What We Look for in Founders\\n\\nOctober 2010\\n\\nWant to start a startup? Get funded by Y Combinator.  (I wrote this for Forbes, who asked me to write something about the qualities we look for in founders. In print they had to cut the last item because they didn\\'t have room.)1. DeterminationThis has turned out to be the most important quality in startup founders. We thought when we started Y Combinator that the most important quality would be intelligence. That\\'s the myth in the Valley. And certainly you don\\'t want founders to be stupid. But as long as you\\'re over a certain threshold of intelligence, what matters most is determination. You\\'re going to hit a lot of obstacles. You can\\'t be the sort of person who gets demoralized easily. Bill Clerico and Rich Aberman of WePay are a good example. They\\'re doing a finance startup, which means endless negotiations with big, bureaucratic companies. When you\\'re starting a startup that depends on deals with big companies to exist, it often feels like they\\'re trying to ignore you out of existence. But when Bill Clerico starts calling you, you may as well do what he asks, because he is not going away. 2. FlexibilityYou do not however want the sort of determination implied by phrases like \"don\\'t give up on your dreams.\" The world of startups is so unpredictable that you need to be able to modify your dreams on the fly. The best metaphor I\\'ve found for the combination of determination and flexibility you need is a running back. He\\'s determined to get downfield, but at any given moment he may need to go sideways or even backwards to get there. The current record holder for flexibility may be Daniel Gross of Greplin. He applied to YC with some bad ecommerce idea. We told him we\\'d fund him if he did something else. He thought for a second, and said ok. He then went through two more ideas before settling on Greplin. He\\'d only been working on it for a couple days when he presented to investors at Demo Day, but he got a lot of interest. He always seems to land on his feet. 3. ImaginationIntelligence does matter a lot of course. It seems like the type that matters most is imagination. It\\'s not so important to be able to solve predefined problems quickly as to be able to come up with surprising new ideas. In the startup world, most good ideas seem bad initially. If they were obviously good, someone would already be doing them. So you need the kind of intelligence that produces ideas with just the right level of craziness. Airbnb is that kind of idea. In fact, when we funded Airbnb, we thought it was too crazy. We couldn\\'t believe large numbers of people would want to stay in other people\\'s places. We funded them because we liked the founders so much. As soon as we heard they\\'d been supporting themselves by selling Obama and McCain branded breakfast cereal, they were in. And it turned out the idea was on the right side of crazy after all. 4. NaughtinessThough the most successful founders are usually good people, they tend to have a piratical gleam in their eye. They\\'re not Goody Two-Shoes type good. Morally, they care about getting the big questions right, but not about observing proprieties. That\\'s why I\\'d use the word naughty rather than evil. They delight in breaking rules, but not rules that matter. This quality may be redundant though; it may be implied by imagination. Sam Altman of Loopt is one of the most successful alumni, so we asked him what question we could put on the Y Combinator application that would help us discover more people like him. He said to ask about a time when they\\'d hacked something to their advantage—hacked in the sense of beating the system, not breaking into computers. It has become one of the questions we pay most attention to when judging applications. 5. FriendshipEmpirically it seems to be hard to start a startup with just one founder. Most of the big successes have two or three. And the relationship between the founders has to be strong. They must genuinely like one another, and work well together. Startups do to the relationship between the founders what a dog does to a sock: if it can be pulled apart, it will be. Emmett Shear and Justin Kan of Justin. tv are a good example of close friends who work well together. They\\'ve known each other since second grade. They can practically read one another\\'s minds. I\\'m sure they argue, like all founders, but I have never once sensed any unresolved tension between them.\\n\\nThanks to Jessica Livingston and Chris Steiner for reading drafts of this.']}"
      ]
     },
     "execution_count": 4,
     "metadata": {},
     "output_type": "execute_result"
    }
   ],
   "source": [
    "get_llama_response(example_qa[\"question\"])"
   ]
  },
  {
   "cell_type": "markdown",
   "id": "904df61d",
   "metadata": {},
   "source": [
    "Now let's set up the benchmark for Tonic Validate using the QA pairs"
   ]
  },
  {
   "cell_type": "code",
   "execution_count": 5,
   "id": "f561d8e5",
   "metadata": {},
   "outputs": [],
   "source": [
    "from tonic_validate import Benchmark\n",
    "question_list = [qa_pair['question'] for qa_pair in qa_pairs]\n",
    "answer_list = [qa_pair['answer'] for qa_pair in qa_pairs]\n",
    "\n",
    "benchmark = Benchmark(questions=question_list, answers=answer_list)"
   ]
  },
  {
   "cell_type": "markdown",
   "id": "49a255c6",
   "metadata": {},
   "source": [
    "Set up the scorer from Tonic Validate to score the run."
   ]
  },
  {
   "cell_type": "code",
   "execution_count": 6,
   "id": "4b585568",
   "metadata": {},
   "outputs": [],
   "source": [
    "from tonic_validate import ValidateScorer\n",
    "\n",
    "scorer = ValidateScorer()\n",
    "response_scores = scorer.score(benchmark, get_llama_response, scoring_parallelism=2, callback_parallelism=2)"
   ]
  },
  {
   "cell_type": "markdown",
   "id": "e0de9cc5-479d-46a2-a8eb-821436ac7e8d",
   "metadata": {},
   "source": [
    "Put the scores into a dataframe for easy viewing."
   ]
  },
  {
   "cell_type": "code",
   "execution_count": 7,
   "id": "f5432a16-53b3-4f05-bba0-066a6fcf7d19",
   "metadata": {},
   "outputs": [],
   "source": [
    "import pandas as pd\n",
    "\n",
    "def make_scores_df(response_scores):\n",
    "    scores_df = {\n",
    "        \"question\": [],\n",
    "        \"reference_answer\": [],\n",
    "        \"llm_answer\": [],\n",
    "        \"retrieved_context\": []\n",
    "    }\n",
    "    for score_name in response_scores.overall_scores:\n",
    "        scores_df[score_name] = []\n",
    "    for data in response_scores.run_data:\n",
    "        scores_df[\"question\"].append(data.reference_question)\n",
    "        scores_df[\"reference_answer\"].append(data.reference_answer)\n",
    "        scores_df[\"llm_answer\"].append(data.llm_answer)\n",
    "        scores_df[\"retrieved_context\"].append(data.llm_context)\n",
    "        for score_name, score in data.scores.items():\n",
    "            scores_df[score_name].append(score)\n",
    "    return pd.DataFrame(scores_df)\n",
    "            "
   ]
  },
  {
   "cell_type": "code",
   "execution_count": 8,
   "id": "319b1c47-c816-4d77-bd33-1606f733c0a3",
   "metadata": {},
   "outputs": [],
   "source": [
    "scores_df = make_scores_df(response_scores)"
   ]
  },
  {
   "cell_type": "code",
   "execution_count": 9,
   "id": "76d0cec9-2d08-4b7b-a4f0-9ca865a284a2",
   "metadata": {},
   "outputs": [
    {
     "data": {
      "text/html": [
       "<div>\n",
       "<style scoped>\n",
       "    .dataframe tbody tr th:only-of-type {\n",
       "        vertical-align: middle;\n",
       "    }\n",
       "\n",
       "    .dataframe tbody tr th {\n",
       "        vertical-align: top;\n",
       "    }\n",
       "\n",
       "    .dataframe thead th {\n",
       "        text-align: right;\n",
       "    }\n",
       "</style>\n",
       "<table border=\"1\" class=\"dataframe\">\n",
       "  <thead>\n",
       "    <tr style=\"text-align: right;\">\n",
       "      <th></th>\n",
       "      <th>question</th>\n",
       "      <th>reference_answer</th>\n",
       "      <th>llm_answer</th>\n",
       "      <th>retrieved_context</th>\n",
       "      <th>answer_similarity</th>\n",
       "      <th>augmentation_precision</th>\n",
       "      <th>answer_consistency</th>\n",
       "    </tr>\n",
       "  </thead>\n",
       "  <tbody>\n",
       "    <tr>\n",
       "      <th>0</th>\n",
       "      <td>What makes Sam Altman a good founder?</td>\n",
       "      <td>He has a great force of will.</td>\n",
       "      <td>Sam Altman is considered a good founder becaus...</td>\n",
       "      <td>[Five Founders\\n\\nApril 2009\\n\\nInc recently a...</td>\n",
       "      <td>5.0</td>\n",
       "      <td>1.0</td>\n",
       "      <td>0.8</td>\n",
       "    </tr>\n",
       "    <tr>\n",
       "      <th>1</th>\n",
       "      <td>When was the essay \"Five Founders\" written?</td>\n",
       "      <td>April 2009</td>\n",
       "      <td>April 2009</td>\n",
       "      <td>[Five Founders\\n\\nApril 2009\\n\\nInc recently a...</td>\n",
       "      <td>5.0</td>\n",
       "      <td>1.0</td>\n",
       "      <td>1.0</td>\n",
       "    </tr>\n",
       "    <tr>\n",
       "      <th>2</th>\n",
       "      <td>When does the most dramatic growth happen for ...</td>\n",
       "      <td>When the startup only has three or four people.</td>\n",
       "      <td>The most dramatic growth for a startup typical...</td>\n",
       "      <td>[Learning from Founders\\n\\nJanuary 2007\\n\\n(Fo...</td>\n",
       "      <td>5.0</td>\n",
       "      <td>1.0</td>\n",
       "      <td>1.0</td>\n",
       "    </tr>\n",
       "    <tr>\n",
       "      <th>3</th>\n",
       "      <td>What is the problem with business culture vers...</td>\n",
       "      <td>In business culture, energy is expended on out...</td>\n",
       "      <td>The problem with business culture versus start...</td>\n",
       "      <td>[Learning from Founders\\n\\nJanuary 2007\\n\\n(Fo...</td>\n",
       "      <td>5.0</td>\n",
       "      <td>0.5</td>\n",
       "      <td>1.0</td>\n",
       "    </tr>\n",
       "    <tr>\n",
       "      <th>4</th>\n",
       "      <td>What's the single biggest thing the government...</td>\n",
       "      <td>Establish a new class of visa for startup foun...</td>\n",
       "      <td>Establish a new class of visa for startup foun...</td>\n",
       "      <td>[The Founder Visa\\n\\nApril 2009\\n\\nI usually a...</td>\n",
       "      <td>5.0</td>\n",
       "      <td>1.0</td>\n",
       "      <td>1.0</td>\n",
       "    </tr>\n",
       "  </tbody>\n",
       "</table>\n",
       "</div>"
      ],
      "text/plain": [
       "                                            question  \\\n",
       "0              What makes Sam Altman a good founder?   \n",
       "1        When was the essay \"Five Founders\" written?   \n",
       "2  When does the most dramatic growth happen for ...   \n",
       "3  What is the problem with business culture vers...   \n",
       "4  What's the single biggest thing the government...   \n",
       "\n",
       "                                    reference_answer  \\\n",
       "0                      He has a great force of will.   \n",
       "1                                         April 2009   \n",
       "2    When the startup only has three or four people.   \n",
       "3  In business culture, energy is expended on out...   \n",
       "4  Establish a new class of visa for startup foun...   \n",
       "\n",
       "                                          llm_answer  \\\n",
       "0  Sam Altman is considered a good founder becaus...   \n",
       "1                                         April 2009   \n",
       "2  The most dramatic growth for a startup typical...   \n",
       "3  The problem with business culture versus start...   \n",
       "4  Establish a new class of visa for startup foun...   \n",
       "\n",
       "                                   retrieved_context  answer_similarity  \\\n",
       "0  [Five Founders\\n\\nApril 2009\\n\\nInc recently a...                5.0   \n",
       "1  [Five Founders\\n\\nApril 2009\\n\\nInc recently a...                5.0   \n",
       "2  [Learning from Founders\\n\\nJanuary 2007\\n\\n(Fo...                5.0   \n",
       "3  [Learning from Founders\\n\\nJanuary 2007\\n\\n(Fo...                5.0   \n",
       "4  [The Founder Visa\\n\\nApril 2009\\n\\nI usually a...                5.0   \n",
       "\n",
       "   augmentation_precision  answer_consistency  \n",
       "0                     1.0                 0.8  \n",
       "1                     1.0                 1.0  \n",
       "2                     1.0                 1.0  \n",
       "3                     0.5                 1.0  \n",
       "4                     1.0                 1.0  "
      ]
     },
     "execution_count": 9,
     "metadata": {},
     "output_type": "execute_result"
    }
   ],
   "source": [
    "scores_df.head()"
   ]
  }
 ],
 "metadata": {
  "kernelspec": {
   "display_name": "Python 3",
   "language": "python",
   "name": "python3"
  },
  "language_info": {
   "codemirror_mode": {
    "name": "ipython",
    "version": 3
   },
   "file_extension": ".py",
   "mimetype": "text/x-python",
   "name": "python",
   "nbconvert_exporter": "python",
   "pygments_lexer": "ipython3",
   "version": "3.11.7"
  }
 },
 "nbformat": 4,
 "nbformat_minor": 5
}
