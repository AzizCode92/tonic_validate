{
 "cells": [
  {
   "cell_type": "markdown",
   "metadata": {},
   "source": [
    "### Setup"
   ]
  },
  {
   "cell_type": "code",
   "execution_count": 1,
   "metadata": {},
   "outputs": [],
   "source": [
    "from openai import OpenAI\n",
    "from tqdm import tqdm\n",
    "import os\n",
    "import math\n",
    "from tvalmetrics import RagScoresCalculator\n",
    "from concurrent.futures import ThreadPoolExecutor\n",
    "\n",
    "client = OpenAI()"
   ]
  },
  {
   "cell_type": "code",
   "execution_count": 2,
   "metadata": {},
   "outputs": [],
   "source": [
    "RUN_COMBINE_ESSAYS = True\n",
    "\n",
    "def get_sorted_essays():\n",
    "    # Sort the files so that they are uploaded in order\n",
    "    combined_essays = os.listdir('combined_essays')\n",
    "    combined_essays.sort(key=lambda x: int(x.split('_')[2].split('.')[0]))\n",
    "    print(\"\\n\".join(combined_essays))\n",
    "    return combined_essays\n",
    "\n",
    "# Iterate through paul_graham_essays folder and upload each file to the assistant\n",
    "# Apparently you can't upload more than 20 items to openai's rag so let's just combine them and upload those\n",
    "def combine_essays(group_num):\n",
    "    if not RUN_COMBINE_ESSAYS:\n",
    "        return\n",
    "    essays = os.listdir('paul_graham_essays')\n",
    "    group_size = math.ceil(len(essays) / group_num)\n",
    "    print(f\"Grouping {len(essays)} files into groups of {group_size} files for a total of {group_num} groups\")\n",
    "\n",
    "\n",
    "    # Create directory for combined essays\n",
    "    if not os.path.exists('combined_essays'):\n",
    "        os.makedirs('combined_essays')\n",
    "    else:\n",
    "        # delete all files in combined_essays\n",
    "        for filename in os.listdir('combined_essays'):\n",
    "            os.remove(f'combined_essays/{filename}')\n",
    "\n",
    "    group_counter = 0\n",
    "    file_counter = 1\n",
    "    curr_file_text = \"\"\n",
    "    for filename in tqdm(essays):\n",
    "        with open('paul_graham_essays/' + filename, 'r') as file:\n",
    "            curr_file_text += file.read().strip() + \"\\n\\n\\n\\n\"\n",
    "            group_counter += 1\n",
    "            if group_counter == group_size:\n",
    "                # Write to file\n",
    "                with open(f'combined_essays/paul_graham_{file_counter}.txt', 'w') as combined_file:\n",
    "                    combined_file.write(curr_file_text)\n",
    "                    file_counter += 1\n",
    "                curr_file_text = \"\"\n",
    "                group_counter = 0\n",
    "    \n",
    "    if curr_file_text.strip():\n",
    "        with open(f'combined_essays/paul_graham_{file_counter}.txt', 'w') as combined_file:\n",
    "            combined_file.write(curr_file_text)\n",
    "    return get_sorted_essays()"
   ]
  },
  {
   "cell_type": "code",
   "execution_count": 3,
   "metadata": {},
   "outputs": [],
   "source": [
    "import time\n",
    "\n",
    "\n",
    "def get_response(prompt, assistant):\n",
    "    thread = client.beta.threads.create(\n",
    "        messages=[\n",
    "            {\n",
    "                \"role\": \"user\",\n",
    "                \"content\": prompt\n",
    "            }\n",
    "        ]\n",
    "    )\n",
    "    run = client.beta.threads.runs.create(\n",
    "        thread_id=thread.id,\n",
    "        assistant_id=assistant.id,\n",
    "    )\n",
    "    max_tries = 180\n",
    "    try:\n",
    "        while True:\n",
    "            if max_tries == 0:\n",
    "                client.beta.threads.delete(thread.id)\n",
    "                raise Exception(\"Max tries exceeded\")\n",
    "            messages = client.beta.threads.messages.list(\n",
    "                thread_id=thread.id,\n",
    "            )\n",
    "            response_message = messages.data[0].content[0].text.value\n",
    "            if response_message != prompt and response_message.strip():\n",
    "                annotations = messages.data[0].content[0].text.annotations\n",
    "                quotes = [x.file_citation.quote for x in annotations if x.file_citation]\n",
    "                client.beta.threads.delete(thread.id)\n",
    "                return (response_message, quotes)\n",
    "            time.sleep(1)\n",
    "            max_tries -= 1\n",
    "    except Exception as e:\n",
    "        client.beta.threads.delete(thread.id)\n",
    "        raise e"
   ]
  },
  {
   "cell_type": "code",
   "execution_count": 4,
   "metadata": {},
   "outputs": [
    {
     "name": "stdout",
     "output_type": "stream",
     "text": [
      "Questions:\n",
      "What key components are necessary to create a technology hub according to Paul Graham?\n",
      "What is the influence of geography on where great cities historically developed, and how has that changed in modern times?\n",
      "How are people classified according to their degree and aggressiveness of conformism?\n",
      "What is the main danger of restricting the discussion of certain ideas?\n",
      "\n",
      "Answers:\n",
      "What key components are necessary to create a technology hub according to Paul Graham?\n",
      "What is the influence of geography on where great cities historically developed, and how has that changed in modern times?\n",
      "How are people classified according to their degree and aggressiveness of conformism?\n",
      "What is the main danger of restricting the discussion of certain ideas?\n"
     ]
    }
   ],
   "source": [
    "# Load questions from qa_pairs.json\n",
    "import json\n",
    "qa_pairs = []\n",
    "with open('qa_pairs.json', 'r') as qa_file:\n",
    "    qa_pairs = json.load(qa_file)\n",
    "\n",
    "question_list = [qa_pair['question'] for qa_pair in qa_pairs]\n",
    "print(\"Questions:\\n\" + \"\\n\".join(question_list[:4]))\n",
    "\n",
    "print()\n",
    "\n",
    "answer_list = [qa_pair['answer'] for qa_pair in qa_pairs]\n",
    "print(\"Answers:\\n\" + \"\\n\".join(question_list[:4]))"
   ]
  },
  {
   "cell_type": "code",
   "execution_count": 5,
   "metadata": {},
   "outputs": [],
   "source": [
    "score_calculator = RagScoresCalculator(\n",
    "    model=\"gpt-4-1106-preview\",\n",
    "    answer_similarity_score=True,\n",
    ")"
   ]
  },
  {
   "cell_type": "code",
   "execution_count": 6,
   "metadata": {},
   "outputs": [],
   "source": [
    "import tiktoken\n",
    "def count_tokens(text):\n",
    "    enc = tiktoken.get_encoding(\"cl100k_base\")\n",
    "    num_tokens = len(enc.encode(text))\n",
    "    return num_tokens"
   ]
  },
  {
   "cell_type": "markdown",
   "metadata": {},
   "source": [
    "#### Cleanup"
   ]
  },
  {
   "cell_type": "code",
   "execution_count": 7,
   "metadata": {},
   "outputs": [
    {
     "name": "stdout",
     "output_type": "stream",
     "text": [
      "Cleaning up files\n"
     ]
    },
    {
     "name": "stderr",
     "output_type": "stream",
     "text": [
      "100%|██████████| 5/5 [00:06<00:00,  1.31s/it]\n"
     ]
    },
    {
     "name": "stdout",
     "output_type": "stream",
     "text": [
      "Cleaning up assistants\n"
     ]
    },
    {
     "name": "stderr",
     "output_type": "stream",
     "text": [
      "100%|██████████| 1/1 [00:00<00:00,  6.13it/s]\n"
     ]
    }
   ],
   "source": [
    "# Do not run the following unless you want to delete all files and assistants\n",
    "\n",
    "# def cleanup_files():\n",
    "#     curr_files = list(client.files.list())\n",
    "#     for file in tqdm(curr_files):\n",
    "#         client.files.delete(file.id)\n",
    "\n",
    "# def cleanup_assistants():\n",
    "#     curr_assistants = list(client.beta.assistants.list())\n",
    "#     for curr_assistant in tqdm(curr_assistants):\n",
    "#         client.beta.assistants.delete(curr_assistant.id)\n",
    "\n",
    "# def cleanup_all():\n",
    "#     print(\"Cleaning up files\")\n",
    "#     cleanup_files()\n",
    "#     print(\"Cleaning up assistants\")\n",
    "#     cleanup_assistants()\n",
    "\n",
    "# cleanup_all()\n"
   ]
  },
  {
   "cell_type": "markdown",
   "metadata": {},
   "source": [
    "### OpenAI's RAG"
   ]
  },
  {
   "cell_type": "markdown",
   "metadata": {},
   "source": [
    "#### Setup"
   ]
  },
  {
   "cell_type": "code",
   "execution_count": 8,
   "metadata": {},
   "outputs": [],
   "source": [
    "def upload_essays(combined_essays):\n",
    "    # Go through all the combined files and upload them to the assistant\n",
    "    files = []\n",
    "    print(\"Uploading files\")\n",
    "    for filename in tqdm(combined_essays):\n",
    "        with open('combined_essays/' + filename, 'rb') as essay_file:\n",
    "            file = client.files.create(\n",
    "                file=essay_file,\n",
    "                purpose='assistants'\n",
    "            )\n",
    "            files.append(file)\n",
    "    return files"
   ]
  },
  {
   "cell_type": "code",
   "execution_count": 9,
   "metadata": {},
   "outputs": [],
   "source": [
    "def create_assistant(files):\n",
    "    return client.beta.assistants.create(\n",
    "        name=f\"OpenAI Rag Test {len(files)} Files\",\n",
    "        instructions=(\n",
    "            \"You are a chatbot that answers questions about Paul Graham's essays. \"\n",
    "            \"Use your knowledge base to best respond to questions. \"\n",
    "            \"NO MATTER WHAT, DO NOT PULL INFORMATION FROM EXTERNAL KNOWLEDGE. ONLY USE YOUR OWN KNOWLEDGE BASE.\"\n",
    "        ),\n",
    "        model=\"gpt-4-1106-preview\",\n",
    "        tools=[{\"type\": \"retrieval\"}],\n",
    "        file_ids=[file.id for file in files]\n",
    "    )"
   ]
  },
  {
   "cell_type": "code",
   "execution_count": 10,
   "metadata": {},
   "outputs": [],
   "source": [
    "def setup_assistant(file_count):\n",
    "    combined_essays = combine_essays(file_count)\n",
    "    files = upload_essays(combined_essays)\n",
    "    return create_assistant(files)\n"
   ]
  },
  {
   "cell_type": "code",
   "execution_count": 11,
   "metadata": {},
   "outputs": [],
   "source": [
    "# Helper function if you want to view the tokens for each file\n",
    "def show_file_token_count(essays):\n",
    "    # Go through all files in combined_essays and then calculate the tokens for each file\n",
    "    total_tokens = 0\n",
    "    count = 0\n",
    "    end_of_selected_files = False\n",
    "    for filename in essays:\n",
    "        with open('combined_essays/' + filename, 'r') as file:\n",
    "            file_tokens = count_tokens(file.read())\n",
    "            count += 1\n",
    "            total_tokens += file_tokens\n",
    "            if filename not in [file.filename for file in files] and not end_of_selected_files:\n",
    "                print(\"--- END OF SELECTED FILES ---\")\n",
    "                end_of_selected_files = True\n",
    "            print(f\"File {count}: {filename} has {file_tokens} tokens. Total tokens: {total_tokens}\")"
   ]
  },
  {
   "cell_type": "markdown",
   "metadata": {},
   "source": [
    "#### Testing"
   ]
  },
  {
   "cell_type": "code",
   "execution_count": 12,
   "metadata": {},
   "outputs": [
    {
     "name": "stdout",
     "output_type": "stream",
     "text": [
      "Grouping 212 files into groups of 43 files for a total of 5 groups\n"
     ]
    },
    {
     "name": "stderr",
     "output_type": "stream",
     "text": [
      "100%|██████████| 212/212 [00:00<00:00, 5782.43it/s]\n"
     ]
    },
    {
     "name": "stdout",
     "output_type": "stream",
     "text": [
      "paul_graham_1.txt\n",
      "paul_graham_2.txt\n",
      "paul_graham_3.txt\n",
      "paul_graham_4.txt\n",
      "paul_graham_5.txt\n",
      "Uploading files\n"
     ]
    },
    {
     "name": "stderr",
     "output_type": "stream",
     "text": [
      "100%|██████████| 5/5 [00:08<00:00,  1.61s/it]\n"
     ]
    }
   ],
   "source": [
    "assistant = setup_assistant(5)"
   ]
  },
  {
   "cell_type": "code",
   "execution_count": 13,
   "metadata": {},
   "outputs": [
    {
     "name": "stdout",
     "output_type": "stream",
     "text": [
      "(\"I'm sorry, but I wasn't able to find the specific monthly financial goal for Airbnb to achieve ramen profitability during their time at Y Combinator in the excerpts available from Paul Graham's essays. If there is a specific essay or part of an essay where this information might be found, please let me know, or if you have any other questions about Paul Graham's essays, feel free to ask!\", [])\n"
     ]
    }
   ],
   "source": [
    "prompt = \"What was Airbnb's monthly financial goal to achieve ramen profitability during their time at Y Combinator?\"\n",
    "openai_response = get_response(prompt, assistant)\n",
    "print(openai_response)"
   ]
  },
  {
   "cell_type": "code",
   "execution_count": 14,
   "metadata": {},
   "outputs": [],
   "source": [
    "openai_responses, openai_context = [], []"
   ]
  },
  {
   "cell_type": "code",
   "execution_count": 23,
   "metadata": {},
   "outputs": [
    {
     "name": "stderr",
     "output_type": "stream",
     "text": [
      "  0%|          | 0/6 [00:00<?, ?it/s]"
     ]
    }
   ],
   "source": [
    "\n",
    "# Go through all questions and get responses from openai assistant\n",
    "for question in tqdm(question_list[len(openai_responses):]):\n",
    "    # If there is an exception, try again until we reach 3 tries at max\n",
    "    max_tries = 3\n",
    "    while True:\n",
    "        try:\n",
    "            openai_response = get_response(question, assistant)\n",
    "            openai_responses.append(openai_response[0])\n",
    "            openai_context.append(openai_response[1])\n",
    "            break\n",
    "        except Exception as e:\n",
    "            print(e)\n",
    "            max_tries -= 1\n",
    "            if max_tries == 0:\n",
    "                raise e\n",
    "            continue"
   ]
  },
  {
   "cell_type": "code",
   "execution_count": null,
   "metadata": {},
   "outputs": [],
   "source": [
    "openai_batch_scores = score_calculator.score_batch(\n",
    "    question_list=question_list [:len(openai_responses)],\n",
    "    reference_answer_list=answer_list[:len(openai_responses)],\n",
    "    llm_answer_list=openai_responses,\n",
    ")"
   ]
  },
  {
   "cell_type": "code",
   "execution_count": 19,
   "metadata": {},
   "outputs": [],
   "source": [
    "def run_full_test(file_count):\n",
    "    assistant = setup_assistant(file_count)\n",
    "    openai_responses, openai_context = [], []\n",
    "\n",
    "    def get_openai_response(question):\n",
    "        max_tries = 10\n",
    "        while True:\n",
    "            try:\n",
    "                response, context = get_response(question, assistant)\n",
    "                return response, context\n",
    "            except Exception as e:\n",
    "                print(e)\n",
    "                max_tries -= 1\n",
    "                if max_tries == 0:\n",
    "                    raise e\n",
    "                continue\n",
    "    \n",
    "    # Using ThreadPoolExecutor to process questions in parallel\n",
    "    with ThreadPoolExecutor(max_workers=10) as executor:\n",
    "        # Map the process_question function to each question in the list\n",
    "        results = list(tqdm(executor.map(get_openai_response, question_list), total=len(question_list)))\n",
    "    \n",
    "    openai_responses, openai_context = zip(*results)\n",
    "\n",
    "    return score_calculator.score_batch(\n",
    "        question_list=question_list,\n",
    "        reference_answer_list=answer_list,\n",
    "        llm_answer_list=openai_responses,\n",
    "    )\n"
   ]
  },
  {
   "cell_type": "code",
   "execution_count": 20,
   "metadata": {},
   "outputs": [
    {
     "name": "stdout",
     "output_type": "stream",
     "text": [
      "Grouping 212 files into groups of 212 files for a total of 1 groups\n"
     ]
    },
    {
     "name": "stderr",
     "output_type": "stream",
     "text": [
      "100%|██████████| 212/212 [00:00<00:00, 1492.76it/s]\n"
     ]
    },
    {
     "name": "stdout",
     "output_type": "stream",
     "text": [
      "paul_graham_1.txt\n",
      "Uploading files\n"
     ]
    },
    {
     "name": "stderr",
     "output_type": "stream",
     "text": [
      "100%|██████████| 1/1 [00:02<00:00,  2.35s/it]\n",
      " 38%|███▊      | 21/55 [00:43<01:13,  2.15s/it]"
     ]
    },
    {
     "name": "stdout",
     "output_type": "stream",
     "text": [
      "Error code: 404 - {'error': {'message': \"No thread found with id 'thread_1Fy2TaSnMls6MGgFtTHsgoDp'.\", 'type': 'invalid_request_error', 'param': None, 'code': None}}\n"
     ]
    },
    {
     "name": "stderr",
     "output_type": "stream",
     "text": [
      "100%|██████████| 55/55 [04:05<00:00,  4.46s/it]\n"
     ]
    }
   ],
   "source": [
    "# If we are doing a single document, the reliability is increased enough that we can multithread\n",
    "# openai_batch_scores = run_full_test(1)"
   ]
  },
  {
   "cell_type": "code",
   "execution_count": 24,
   "metadata": {},
   "outputs": [
    {
     "data": {
      "text/html": [
       "<div>\n",
       "<style scoped>\n",
       "    .dataframe tbody tr th:only-of-type {\n",
       "        vertical-align: middle;\n",
       "    }\n",
       "\n",
       "    .dataframe tbody tr th {\n",
       "        vertical-align: top;\n",
       "    }\n",
       "\n",
       "    .dataframe thead th {\n",
       "        text-align: right;\n",
       "    }\n",
       "</style>\n",
       "<table border=\"1\" class=\"dataframe\">\n",
       "  <thead>\n",
       "    <tr style=\"text-align: right;\">\n",
       "      <th></th>\n",
       "      <th>answer_similarity_score</th>\n",
       "    </tr>\n",
       "  </thead>\n",
       "  <tbody>\n",
       "    <tr>\n",
       "      <th>count</th>\n",
       "      <td>55.000000</td>\n",
       "    </tr>\n",
       "    <tr>\n",
       "      <th>mean</th>\n",
       "      <td>4.163636</td>\n",
       "    </tr>\n",
       "    <tr>\n",
       "      <th>std</th>\n",
       "      <td>1.182647</td>\n",
       "    </tr>\n",
       "    <tr>\n",
       "      <th>min</th>\n",
       "      <td>1.000000</td>\n",
       "    </tr>\n",
       "    <tr>\n",
       "      <th>25%</th>\n",
       "      <td>4.000000</td>\n",
       "    </tr>\n",
       "    <tr>\n",
       "      <th>50%</th>\n",
       "      <td>5.000000</td>\n",
       "    </tr>\n",
       "    <tr>\n",
       "      <th>75%</th>\n",
       "      <td>5.000000</td>\n",
       "    </tr>\n",
       "    <tr>\n",
       "      <th>max</th>\n",
       "      <td>5.000000</td>\n",
       "    </tr>\n",
       "  </tbody>\n",
       "</table>\n",
       "</div>"
      ],
      "text/plain": [
       "       answer_similarity_score\n",
       "count                55.000000\n",
       "mean                  4.163636\n",
       "std                   1.182647\n",
       "min                   1.000000\n",
       "25%                   4.000000\n",
       "50%                   5.000000\n",
       "75%                   5.000000\n",
       "max                   5.000000"
      ]
     },
     "execution_count": 24,
     "metadata": {},
     "output_type": "execute_result"
    }
   ],
   "source": [
    "openai_scores_df = openai_batch_scores.to_dataframe()\n",
    "# Remove overall_score column since we are only using one stat\n",
    "openai_scores_df = openai_scores_df.drop(columns=['overall_score'])\n",
    "openai_scores_df.describe()"
   ]
  },
  {
   "cell_type": "code",
   "execution_count": 35,
   "metadata": {},
   "outputs": [
    {
     "data": {
      "image/png": "[encoded data removed]",
      "text/plain": [
       "<Figure size 640x480 with 1 Axes>"
      ]
     },
     "metadata": {},
     "output_type": "display_data"
    }
   ],
   "source": [
    "import matplotlib.pyplot as plt\n",
    "category_counts = openai_scores_df['answer_similarity_score'].value_counts()\n",
    "plt.bar(category_counts.index, category_counts.values)\n",
    "\n",
    "plt.title('Distribution of scores for 5 documents')\n",
    "plt.xlabel('Score')\n",
    "plt.ylabel('Count')\n",
    "\n",
    "plt.show()"
   ]
  }
 ],
 "metadata": {
  "kernelspec": {
   "display_name": "Python 3",
   "language": "python",
   "name": "python3"
  },
  "language_info": {
   "codemirror_mode": {
    "name": "ipython",
    "version": 3
   },
   "file_extension": ".py",
   "mimetype": "text/x-python",
   "name": "python",
   "nbconvert_exporter": "python",
   "pygments_lexer": "ipython3",
   "version": "3.11.6"
  }
 },
 "nbformat": 4,
 "nbformat_minor": 2
}
