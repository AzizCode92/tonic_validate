{
 "cells": [
  {
   "cell_type": "markdown",
   "metadata": {},
   "source": [
    "### Setup"
   ]
  },
  {
   "cell_type": "code",
   "execution_count": 14,
   "metadata": {},
   "outputs": [],
   "source": [
    "from openai import OpenAI\n",
    "from tqdm import tqdm\n",
    "from tvalmetrics import RagScoresCalculator\n",
    "import os"
   ]
  },
  {
   "cell_type": "code",
   "execution_count": 15,
   "metadata": {},
   "outputs": [
    {
     "name": "stdout",
     "output_type": "stream",
     "text": [
      "Questions:\n",
      "What key components are necessary to create a technology hub according to Paul Graham?\n",
      "What is the influence of geography on where great cities historically developed, and how has that changed in modern times?\n",
      "How are people classified according to their degree and aggressiveness of conformism?\n",
      "What is the main danger of restricting the discussion of certain ideas?\n",
      "\n",
      "Answers:\n",
      "What key components are necessary to create a technology hub according to Paul Graham?\n",
      "What is the influence of geography on where great cities historically developed, and how has that changed in modern times?\n",
      "How are people classified according to their degree and aggressiveness of conformism?\n",
      "What is the main danger of restricting the discussion of certain ideas?\n"
     ]
    }
   ],
   "source": [
    "# Load questions from qa_pairs.json\n",
    "import json\n",
    "qa_pairs = []\n",
    "with open('qa_pairs.json', 'r') as qa_file:\n",
    "    qa_pairs = json.load(qa_file)\n",
    "\n",
    "question_list = [qa_pair['question'] for qa_pair in qa_pairs]\n",
    "print(\"Questions:\\n\" + \"\\n\".join(question_list[:4]))\n",
    "\n",
    "print()\n",
    "\n",
    "answer_list = [qa_pair['answer'] for qa_pair in qa_pairs]\n",
    "print(\"Answers:\\n\" + \"\\n\".join(question_list[:4]))"
   ]
  },
  {
   "cell_type": "code",
   "execution_count": 16,
   "metadata": {},
   "outputs": [],
   "source": [
    "score_calculator = RagScoresCalculator(\n",
    "    model=\"gpt-4-1106-preview\",\n",
    "    answer_similarity_score=True,\n",
    ")"
   ]
  },
  {
   "cell_type": "markdown",
   "metadata": {},
   "source": [
    "### Haystack"
   ]
  },
  {
   "cell_type": "markdown",
   "metadata": {},
   "source": [
    "#### Setup"
   ]
  },
  {
   "cell_type": "code",
   "execution_count": 11,
   "metadata": {},
   "outputs": [
    {
     "name": "stderr",
     "output_type": "stream",
     "text": [
      "C:\\Users\\EthanPhilpott\\AppData\\Roaming\\Python\\Python311\\site-packages\\tqdm\\auto.py:21: TqdmWarning: IProgress not found. Please update jupyter and ipywidgets. See https://ipywidgets.readthedocs.io/en/stable/user_install.html\n",
      "  from .autonotebook import tqdm as notebook_tqdm\n",
      "2023-11-30 16:39:34,671\tINFO util.py:159 -- Missing packages: ['ipywidgets']. Run `pip install -U ipywidgets`, then restart the notebook server for rich notebook output.\n"
     ]
    }
   ],
   "source": [
    "from haystack import Pipeline\n",
    "from haystack.document_stores import InMemoryDocumentStore\n",
    "from haystack.utils import add_example_data\n",
    "from haystack.nodes import EmbeddingRetriever, PromptNode, PromptTemplate, AnswerParser\n",
    "\n",
    "def get_haystack():\n",
    "    document_store = InMemoryDocumentStore(similarity=\"dot_product\", embedding_dim=1536)\n",
    "    add_example_data(document_store, \"paul_graham_essays\")\n",
    "    retriever = EmbeddingRetriever(\n",
    "        document_store=document_store,\n",
    "        batch_size=8,\n",
    "        embedding_model=\"text-embedding-ada-002\",\n",
    "        api_key=os.environ[\"OPENAI_API_KEY\"],\n",
    "        max_seq_len=1536,\n",
    "        progress_bar=False\n",
    "    )\n",
    "    document_store.update_embeddings(retriever)\n",
    "    prompt_template = PromptTemplate(\n",
    "        prompt=\"deepset/question-answering\",\n",
    "        output_parser=AnswerParser(),\n",
    "    )\n",
    "    prompt_node = PromptNode(\n",
    "        model_name_or_path=\"gpt-4-1106-preview\",\n",
    "        api_key=os.environ[\"OPENAI_API_KEY\"],\n",
    "        default_prompt_template=prompt_template,\n",
    "        max_length=2048\n",
    "    )\n",
    "    query_pipeline = Pipeline()\n",
    "    query_pipeline.add_node(component=retriever, name=\"retriever\", inputs=[\"Query\"])\n",
    "    query_pipeline.add_node(component=prompt_node, name=\"prompt_node\", inputs=[\"retriever\"])\n",
    "    return query_pipeline"
   ]
  },
  {
   "cell_type": "code",
   "execution_count": 12,
   "metadata": {},
   "outputs": [
    {
     "name": "stderr",
     "output_type": "stream",
     "text": [
      "Preprocessing:  89%|████████▉ | 189/212 [00:00<00:00, 284.41docs/s]We found one or more sentences whose word count is higher than the split length.\n",
      "Preprocessing: 100%|██████████| 212/212 [00:00<00:00, 286.45docs/s]\n",
      "Documents Processed: 10000 docs [04:08, 40.29 docs/s]           \n"
     ]
    }
   ],
   "source": [
    "haystack_pipeline = get_haystack()"
   ]
  },
  {
   "cell_type": "code",
   "execution_count": 15,
   "metadata": {},
   "outputs": [],
   "source": [
    "def get_haystack_response(query):\n",
    "    haystack_response = haystack_pipeline.run(query=query)\n",
    "    return haystack_response['answers'][0].answer"
   ]
  },
  {
   "cell_type": "markdown",
   "metadata": {},
   "source": [
    "#### Testing"
   ]
  },
  {
   "cell_type": "code",
   "execution_count": 16,
   "metadata": {},
   "outputs": [
    {
     "name": "stdout",
     "output_type": "stream",
     "text": [
      "Airbnb's monthly financial goal to achieve ramen profitability during their time at Y Combinator was $4000 a month.\n"
     ]
    }
   ],
   "source": [
    "print(get_haystack_response(\n",
    "    \"What was Airbnb's monthly financial goal to achieve ramen profitability during their time at Y Combinator?\"\n",
    "))"
   ]
  },
  {
   "cell_type": "code",
   "execution_count": 17,
   "metadata": {},
   "outputs": [
    {
     "name": "stderr",
     "output_type": "stream",
     "text": [
      "  0%|          | 0/55 [00:00<?, ?it/s]"
     ]
    },
    {
     "name": "stderr",
     "output_type": "stream",
     "text": [
      "100%|██████████| 55/55 [02:12<00:00,  2.41s/it]\n"
     ]
    }
   ],
   "source": [
    "from concurrent.futures import ThreadPoolExecutor\n",
    "from tqdm import tqdm\n",
    "\n",
    "# Using ThreadPoolExecutor to process questions in parallel\n",
    "with ThreadPoolExecutor(max_workers=10) as executor:\n",
    "    # Map the process_question function to each question in the list\n",
    "    haystack_responses = list(tqdm(executor.map(get_haystack_response, question_list), total=len(question_list)))"
   ]
  },
  {
   "cell_type": "code",
   "execution_count": 18,
   "metadata": {},
   "outputs": [],
   "source": [
    "openai_batch_scores = score_calculator.score_batch(\n",
    "    question_list=question_list,\n",
    "    reference_answer_list=answer_list,\n",
    "    llm_answer_list=haystack_responses,\n",
    ")"
   ]
  },
  {
   "cell_type": "code",
   "execution_count": 19,
   "metadata": {},
   "outputs": [
    {
     "data": {
      "text/html": [
       "<div>\n",
       "<style scoped>\n",
       "    .dataframe tbody tr th:only-of-type {\n",
       "        vertical-align: middle;\n",
       "    }\n",
       "\n",
       "    .dataframe tbody tr th {\n",
       "        vertical-align: top;\n",
       "    }\n",
       "\n",
       "    .dataframe thead th {\n",
       "        text-align: right;\n",
       "    }\n",
       "</style>\n",
       "<table border=\"1\" class=\"dataframe\">\n",
       "  <thead>\n",
       "    <tr style=\"text-align: right;\">\n",
       "      <th></th>\n",
       "      <th>answer_similarity_score</th>\n",
       "    </tr>\n",
       "  </thead>\n",
       "  <tbody>\n",
       "    <tr>\n",
       "      <th>count</th>\n",
       "      <td>55.000000</td>\n",
       "    </tr>\n",
       "    <tr>\n",
       "      <th>mean</th>\n",
       "      <td>4.400000</td>\n",
       "    </tr>\n",
       "    <tr>\n",
       "      <th>std</th>\n",
       "      <td>0.914897</td>\n",
       "    </tr>\n",
       "    <tr>\n",
       "      <th>min</th>\n",
       "      <td>2.000000</td>\n",
       "    </tr>\n",
       "    <tr>\n",
       "      <th>25%</th>\n",
       "      <td>4.000000</td>\n",
       "    </tr>\n",
       "    <tr>\n",
       "      <th>50%</th>\n",
       "      <td>5.000000</td>\n",
       "    </tr>\n",
       "    <tr>\n",
       "      <th>75%</th>\n",
       "      <td>5.000000</td>\n",
       "    </tr>\n",
       "    <tr>\n",
       "      <th>max</th>\n",
       "      <td>5.000000</td>\n",
       "    </tr>\n",
       "  </tbody>\n",
       "</table>\n",
       "</div>"
      ],
      "text/plain": [
       "       answer_similarity_score\n",
       "count                55.000000\n",
       "mean                  4.400000\n",
       "std                   0.914897\n",
       "min                   2.000000\n",
       "25%                   4.000000\n",
       "50%                   5.000000\n",
       "75%                   5.000000\n",
       "max                   5.000000"
      ]
     },
     "execution_count": 19,
     "metadata": {},
     "output_type": "execute_result"
    }
   ],
   "source": [
    "openai_scores_df = openai_batch_scores.to_dataframe()\n",
    "# Remove overall_score column since we are only using one stat\n",
    "openai_scores_df = openai_scores_df.drop(columns=['overall_score'])\n",
    "openai_scores_df.describe()"
   ]
  },
  {
   "cell_type": "code",
   "execution_count": 1,
   "metadata": {},
   "outputs": [],
   "source": [
    "# import from csv\n",
    "import pandas as pd\n",
    "openai_scores_df = pd.read_csv('haystack.csv')"
   ]
  },
  {
   "cell_type": "code",
   "execution_count": 7,
   "metadata": {},
   "outputs": [
    {
     "data": {
      "image/png": "[encoded data removed]",
      "text/plain": [
       "<Figure size 640x480 with 1 Axes>"
      ]
     },
     "metadata": {},
     "output_type": "display_data"
    }
   ],
   "source": [
    "import matplotlib.pyplot as plt\n",
    "category_counts = openai_scores_df['answer_similarity_score'].value_counts()\n",
    "plt.bar(category_counts.index, category_counts.values)\n",
    "\n",
    "plt.title('Distribution of scores for Haystack')\n",
    "plt.xlabel('Score')\n",
    "plt.ylabel('Count')\n",
    "\n",
    "plt.bar(category_counts.index, category_counts.values, color='#A679C8')\n",
    "\n",
    "# Remove all scores except whole numbers\n",
    "plt.xticks(range(0, 6, 1))\n",
    "\n",
    "plt.show()"
   ]
  },
  {
   "cell_type": "markdown",
   "metadata": {},
   "source": [
    "### LangChain"
   ]
  },
  {
   "cell_type": "markdown",
   "metadata": {},
   "source": [
    "#### Setup"
   ]
  },
  {
   "cell_type": "code",
   "execution_count": 17,
   "metadata": {},
   "outputs": [],
   "source": [
    "from langchain.document_loaders import DirectoryLoader\n",
    "from langchain.text_splitter import RecursiveCharacterTextSplitter\n",
    "from langchain.embeddings import OpenAIEmbeddings\n",
    "from langchain.vectorstores.chroma import Chroma\n",
    "\n",
    "def get_langchain_retriever():\n",
    "    loader = DirectoryLoader('paul_graham_essays', show_progress=True)\n",
    "    docs = loader.load()\n",
    "    text_splitter = RecursiveCharacterTextSplitter()\n",
    "    split_docs = text_splitter.split_documents(docs)\n",
    "    embeddings = OpenAIEmbeddings()\n",
    "    db = Chroma.from_documents(split_docs, embeddings)\n",
    "    return db.as_retriever()"
   ]
  },
  {
   "cell_type": "code",
   "execution_count": 18,
   "metadata": {},
   "outputs": [],
   "source": [
    "def format_docs(docs):\n",
    "    return \"\\n\\n\".join([d.page_content for d in docs])"
   ]
  },
  {
   "cell_type": "code",
   "execution_count": 19,
   "metadata": {},
   "outputs": [],
   "source": [
    "from langchain.chat_models import ChatOpenAI\n",
    "from langchain.prompts import ChatPromptTemplate\n",
    "from langchain.schema import StrOutputParser\n",
    "from langchain.schema.runnable import RunnablePassthrough\n",
    "\n",
    "def get_langchain():\n",
    "    template = \"\"\"Answer the question based only on the following context:\n",
    "\n",
    "    {context}\n",
    "\n",
    "    Question: {question}\n",
    "    \"\"\"\n",
    "    prompt = ChatPromptTemplate.from_template(template)\n",
    "    model = ChatOpenAI(model_name=\"gpt-4-1106-preview\")\n",
    "    retriever = get_langchain_retriever()\n",
    "    chain = (\n",
    "        {\"context\": retriever | format_docs, \"question\": RunnablePassthrough()}\n",
    "        | prompt\n",
    "        | model\n",
    "        | StrOutputParser()\n",
    "    )\n",
    "    return chain"
   ]
  },
  {
   "cell_type": "code",
   "execution_count": 20,
   "metadata": {},
   "outputs": [
    {
     "name": "stderr",
     "output_type": "stream",
     "text": [
      "100%|██████████| 212/212 [00:12<00:00, 17.52it/s]\n"
     ]
    }
   ],
   "source": [
    "langchain_pipeline = get_langchain()"
   ]
  },
  {
   "cell_type": "code",
   "execution_count": 21,
   "metadata": {},
   "outputs": [
    {
     "name": "stdout",
     "output_type": "stream",
     "text": [
      "Airbnb's monthly financial goal to achieve ramen profitability during their time at Y Combinator was $4000 a month.\n"
     ]
    }
   ],
   "source": [
    "print(langchain_pipeline.invoke(\n",
    "    \"What was Airbnb's monthly financial goal to achieve ramen profitability during their time at Y Combinator?\"\n",
    "))"
   ]
  },
  {
   "cell_type": "code",
   "execution_count": 22,
   "metadata": {},
   "outputs": [
    {
     "name": "stderr",
     "output_type": "stream",
     "text": [
      "100%|██████████| 55/55 [01:14<00:00,  1.35s/it]\n"
     ]
    }
   ],
   "source": [
    "from concurrent.futures import ThreadPoolExecutor\n",
    "from tqdm import tqdm\n",
    "\n",
    "# Using ThreadPoolExecutor to process questions in parallel\n",
    "with ThreadPoolExecutor(max_workers=10) as executor:\n",
    "    # Map the process_question function to each question in the list\n",
    "    langchain_responses = list(tqdm(executor.map(langchain_pipeline.invoke, question_list), total=len(question_list)))"
   ]
  },
  {
   "cell_type": "code",
   "execution_count": 23,
   "metadata": {},
   "outputs": [],
   "source": [
    "openai_batch_scores = score_calculator.score_batch(\n",
    "    question_list=question_list,\n",
    "    reference_answer_list=answer_list,\n",
    "    llm_answer_list=langchain_responses,\n",
    ")"
   ]
  },
  {
   "cell_type": "code",
   "execution_count": 26,
   "metadata": {},
   "outputs": [
    {
     "data": {
      "text/html": [
       "<div>\n",
       "<style scoped>\n",
       "    .dataframe tbody tr th:only-of-type {\n",
       "        vertical-align: middle;\n",
       "    }\n",
       "\n",
       "    .dataframe tbody tr th {\n",
       "        vertical-align: top;\n",
       "    }\n",
       "\n",
       "    .dataframe thead th {\n",
       "        text-align: right;\n",
       "    }\n",
       "</style>\n",
       "<table border=\"1\" class=\"dataframe\">\n",
       "  <thead>\n",
       "    <tr style=\"text-align: right;\">\n",
       "      <th></th>\n",
       "      <th>answer_similarity_score</th>\n",
       "    </tr>\n",
       "  </thead>\n",
       "  <tbody>\n",
       "    <tr>\n",
       "      <th>count</th>\n",
       "      <td>55.000000</td>\n",
       "    </tr>\n",
       "    <tr>\n",
       "      <th>mean</th>\n",
       "      <td>4.000000</td>\n",
       "    </tr>\n",
       "    <tr>\n",
       "      <th>std</th>\n",
       "      <td>1.452966</td>\n",
       "    </tr>\n",
       "    <tr>\n",
       "      <th>min</th>\n",
       "      <td>0.000000</td>\n",
       "    </tr>\n",
       "    <tr>\n",
       "      <th>25%</th>\n",
       "      <td>4.000000</td>\n",
       "    </tr>\n",
       "    <tr>\n",
       "      <th>50%</th>\n",
       "      <td>5.000000</td>\n",
       "    </tr>\n",
       "    <tr>\n",
       "      <th>75%</th>\n",
       "      <td>5.000000</td>\n",
       "    </tr>\n",
       "    <tr>\n",
       "      <th>max</th>\n",
       "      <td>5.000000</td>\n",
       "    </tr>\n",
       "  </tbody>\n",
       "</table>\n",
       "</div>"
      ],
      "text/plain": [
       "       answer_similarity_score\n",
       "count                55.000000\n",
       "mean                  4.000000\n",
       "std                   1.452966\n",
       "min                   0.000000\n",
       "25%                   4.000000\n",
       "50%                   5.000000\n",
       "75%                   5.000000\n",
       "max                   5.000000"
      ]
     },
     "execution_count": 26,
     "metadata": {},
     "output_type": "execute_result"
    }
   ],
   "source": [
    "openai_scores_df = openai_batch_scores.to_dataframe()\n",
    "# Remove overall_score column since we are only using one stat\n",
    "openai_scores_df = openai_scores_df.drop(columns=['overall_score'])\n",
    "openai_scores_df.describe()"
   ]
  },
  {
   "cell_type": "code",
   "execution_count": 28,
   "metadata": {},
   "outputs": [],
   "source": [
    "# Save to csv\n",
    "openai_scores_df.to_csv('langchain.csv')"
   ]
  },
  {
   "cell_type": "code",
   "execution_count": 27,
   "metadata": {},
   "outputs": [
    {
     "data": {
      "image/png": "[encoded data removed]",
      "text/plain": [
       "<Figure size 640x480 with 1 Axes>"
      ]
     },
     "metadata": {},
     "output_type": "display_data"
    }
   ],
   "source": [
    "import matplotlib.pyplot as plt\n",
    "category_counts = openai_scores_df['answer_similarity_score'].value_counts()\n",
    "plt.bar(category_counts.index, category_counts.values)\n",
    "\n",
    "plt.title('Distribution of scores for LangChain')\n",
    "plt.xlabel('Score')\n",
    "plt.ylabel('Count')\n",
    "\n",
    "plt.bar(category_counts.index, category_counts.values, color='#A679C8')\n",
    "\n",
    "# Remove all scores except whole numbers\n",
    "plt.xticks(range(0, 6, 1))\n",
    "\n",
    "plt.show()"
   ]
  },
  {
   "cell_type": "code",
   "execution_count": 79,
   "metadata": {},
   "outputs": [],
   "source": [
    "# Make graph comparing langchain and haystack score distributions\n",
    "import matplotlib.pyplot as plt\n",
    "import pandas as pd\n",
    "\n",
    "# import from csv\n",
    "haystack_scores = pd.read_csv('haystack.csv')\n",
    "langchain_scores = pd.read_csv('langchain.csv')\n",
    "\n",
    "# Combine the two dataframes with answer_similarity_score. Change names of columns to distinguish between the two\\\n",
    "haystack_scores = haystack_scores.rename(columns={'answer_similarity_score': 'Haystack'})\n",
    "langchain_scores = langchain_scores.rename(columns={'answer_similarity_score': 'LangChain'})\n",
    "combined_scores = pd.concat([haystack_scores['Haystack'], langchain_scores['LangChain']], axis=1)"
   ]
  },
  {
   "cell_type": "code",
   "execution_count": null,
   "metadata": {},
   "outputs": [],
   "source": []
  },
  {
   "cell_type": "code",
   "execution_count": 98,
   "metadata": {},
   "outputs": [
    {
     "data": {
      "image/png": "[encoded data removed]",
      "text/plain": [
       "<Figure size 1000x500 with 1 Axes>"
      ]
     },
     "metadata": {},
     "output_type": "display_data"
    }
   ],
   "source": [
    "import matplotlib.pyplot as plt\n",
    "import numpy as np\n",
    "\n",
    "# Position of bars on x-axis\n",
    "ind = np.arange(6)\n",
    "\n",
    "# Figure size\n",
    "plt.figure(figsize=(10,5))\n",
    "\n",
    "# Width of a bar \n",
    "width = 0.3\n",
    "\n",
    "haystack_counts = combined_scores['Haystack'].value_counts().reindex([0,1,2,3,4,5], fill_value=0)\n",
    "plt.bar(haystack_counts.index, haystack_counts.values, width, label=\"Haystack\", color=\"#5EA7EC\")\n",
    "\n",
    "langchain_counts = combined_scores['LangChain'].value_counts().reindex([0,1,2,3,4,5], fill_value=0)\n",
    "plt.bar(langchain_counts.index + width, langchain_counts.values, width, label=\"LangChain\", color=\"#A679C8\")\n",
    "\n",
    "plt.title('Distribution of scores for Haystack & LangChain')\n",
    "plt.xlabel('Answer Similarity Score')\n",
    "plt.ylabel('Count')\n",
    "\n",
    "# Remove all scores except whole numbers\n",
    "plt.xticks(ind + width / 2, range(0, 6, 1))\n",
    "\n",
    "plt.legend(loc='best')\n",
    "\n",
    "# Rounding the descriptive statistics to 3 significant figures\n",
    "statistics_df = combined_scores.describe()\n",
    "# Change 50% to 50% (median)\n",
    "statistics_df = statistics_df.rename(index={'50%': 'median'})\n",
    "rounded_statistics_df = statistics_df.round(3)\n",
    "\n",
    "# Transposing the descriptive statistics table for horizontal display\n",
    "rounded_statistics_df = rounded_statistics_df.T\n",
    "\n",
    "# Adding the table below the histogram\n",
    "table = plt.table(cellText=rounded_statistics_df.values,\n",
    "                  colWidths=[0.1] * len(rounded_statistics_df.columns),\n",
    "                  rowLabels=rounded_statistics_df.index,\n",
    "                  colLabels=rounded_statistics_df.columns,\n",
    "                  cellLoc = 'center', rowLoc = 'center',\n",
    "                  loc='bottom', bbox=[0.0, -0.5, 1.0, 0.3])\n",
    "\n",
    "plt.subplots_adjust(left=0.2, bottom=0.3)\n",
    "\n",
    "plt.show()"
   ]
  }
 ],
 "metadata": {
  "kernelspec": {
   "display_name": "Python 3",
   "language": "python",
   "name": "python3"
  },
  "language_info": {
   "codemirror_mode": {
    "name": "ipython",
    "version": 3
   },
   "file_extension": ".py",
   "mimetype": "text/x-python",
   "name": "python",
   "nbconvert_exporter": "python",
   "pygments_lexer": "ipython3",
   "version": "3.11.6"
  }
 },
 "nbformat": 4,
 "nbformat_minor": 2
}
