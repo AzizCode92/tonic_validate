{
 "cells": [
  {
   "cell_type": "markdown",
   "metadata": {},
   "source": [
    "### Setup"
   ]
  },
  {
   "cell_type": "code",
   "execution_count": 41,
   "metadata": {},
   "outputs": [],
   "source": [
    "from openai import OpenAI\n",
    "from tqdm import tqdm\n",
    "import os\n",
    "import math\n",
    "from tvalmetrics import RagScoresCalculator\n",
    "from concurrent.futures import ThreadPoolExecutor\n",
    "\n",
    "client = OpenAI()"
   ]
  },
  {
   "cell_type": "code",
   "execution_count": 42,
   "metadata": {},
   "outputs": [],
   "source": [
    "RUN_COMBINE_ESSAYS = True\n",
    "\n",
    "def get_sorted_essays():\n",
    "    # Sort the files so that they are uploaded in order\n",
    "    combined_essays = os.listdir('combined_essays')\n",
    "    combined_essays.sort(key=lambda x: int(x.split('_')[2].split('.')[0]))\n",
    "    print(\"\\n\".join(combined_essays))\n",
    "    return combined_essays\n",
    "\n",
    "# Iterate through paul_graham_essays folder and upload each file to the assistant\n",
    "# Apparently you can't upload more than 20 items to openai's rag so let's just combine them and upload those\n",
    "def combine_essays(group_num):\n",
    "    if not RUN_COMBINE_ESSAYS:\n",
    "        return\n",
    "    essays = os.listdir('paul_graham_essays')\n",
    "    group_size = math.ceil(len(essays) / group_num)\n",
    "    print(f\"Grouping {len(essays)} files into groups of {group_size} files for a total of {group_num} groups\")\n",
    "\n",
    "\n",
    "    # Create directory for combined essays\n",
    "    if not os.path.exists('combined_essays'):\n",
    "        os.makedirs('combined_essays')\n",
    "    else:\n",
    "        # delete all files in combined_essays\n",
    "        for filename in os.listdir('combined_essays'):\n",
    "            os.remove(f'combined_essays/{filename}')\n",
    "\n",
    "    group_counter = 0\n",
    "    file_counter = 1\n",
    "    curr_file_text = \"\"\n",
    "    for filename in tqdm(essays):\n",
    "        with open('paul_graham_essays/' + filename, 'r') as file:\n",
    "            curr_file_text += file.read().strip() + \"\\n\\n\\n\\n\"\n",
    "            group_counter += 1\n",
    "            if group_counter == group_size:\n",
    "                # Write to file\n",
    "                with open(f'combined_essays/paul_graham_{file_counter}.txt', 'w') as combined_file:\n",
    "                    combined_file.write(curr_file_text)\n",
    "                    file_counter += 1\n",
    "                curr_file_text = \"\"\n",
    "                group_counter = 0\n",
    "    \n",
    "    if curr_file_text.strip():\n",
    "        with open(f'combined_essays/paul_graham_{file_counter}.txt', 'w') as combined_file:\n",
    "            combined_file.write(curr_file_text)\n",
    "    return get_sorted_essays()"
   ]
  },
  {
   "cell_type": "code",
   "execution_count": 43,
   "metadata": {},
   "outputs": [],
   "source": [
    "import time\n",
    "\n",
    "\n",
    "def get_response(prompt, assistant):\n",
    "    thread = client.beta.threads.create(\n",
    "        messages=[\n",
    "            {\n",
    "                \"role\": \"user\",\n",
    "                \"content\": prompt\n",
    "            }\n",
    "        ]\n",
    "    )\n",
    "    run = client.beta.threads.runs.create(\n",
    "        thread_id=thread.id,\n",
    "        assistant_id=assistant.id,\n",
    "    )\n",
    "    max_tries = 180\n",
    "    try:\n",
    "        while True:\n",
    "            if max_tries == 0:\n",
    "                client.beta.threads.delete(thread.id)\n",
    "                raise Exception(\"Max tries exceeded\")\n",
    "            messages = client.beta.threads.messages.list(\n",
    "                thread_id=thread.id,\n",
    "            )\n",
    "            response_message = messages.data[0].content[0].text.value\n",
    "            if response_message != prompt and response_message.strip():\n",
    "                client.beta.threads.delete(thread.id)\n",
    "                return response_message\n",
    "            time.sleep(1)\n",
    "            max_tries -= 1\n",
    "    except Exception as e:\n",
    "        client.beta.threads.delete(thread.id)\n",
    "        raise e"
   ]
  },
  {
   "cell_type": "code",
   "execution_count": 44,
   "metadata": {},
   "outputs": [
    {
     "name": "stdout",
     "output_type": "stream",
     "text": [
      "Questions:\n",
      "What key components are necessary to create a technology hub according to Paul Graham?\n",
      "What is the influence of geography on where great cities historically developed, and how has that changed in modern times?\n",
      "How are people classified according to their degree and aggressiveness of conformism?\n",
      "What is the main danger of restricting the discussion of certain ideas?\n",
      "\n",
      "Answers:\n",
      "What key components are necessary to create a technology hub according to Paul Graham?\n",
      "What is the influence of geography on where great cities historically developed, and how has that changed in modern times?\n",
      "How are people classified according to their degree and aggressiveness of conformism?\n",
      "What is the main danger of restricting the discussion of certain ideas?\n"
     ]
    }
   ],
   "source": [
    "# Load questions from qa_pairs.json\n",
    "import json\n",
    "qa_pairs = []\n",
    "with open('qa_pairs.json', 'r') as qa_file:\n",
    "    qa_pairs = json.load(qa_file)\n",
    "\n",
    "question_list = [qa_pair['question'] for qa_pair in qa_pairs]\n",
    "print(\"Questions:\\n\" + \"\\n\".join(question_list[:4]))\n",
    "\n",
    "print()\n",
    "\n",
    "answer_list = [qa_pair['answer'] for qa_pair in qa_pairs]\n",
    "print(\"Answers:\\n\" + \"\\n\".join(question_list[:4]))"
   ]
  },
  {
   "cell_type": "code",
   "execution_count": 45,
   "metadata": {},
   "outputs": [],
   "source": [
    "score_calculator = RagScoresCalculator(\n",
    "    model=\"gpt-4-1106-preview\",\n",
    "    answer_similarity_score=True,\n",
    ")"
   ]
  },
  {
   "cell_type": "markdown",
   "metadata": {},
   "source": [
    "#### Cleanup"
   ]
  },
  {
   "cell_type": "code",
   "execution_count": 46,
   "metadata": {},
   "outputs": [],
   "source": [
    "# Do not run the following unless you want to delete all files and assistants\n",
    "\n",
    "# def cleanup_files():\n",
    "#     curr_files = list(client.files.list())\n",
    "#     for file in tqdm(curr_files):\n",
    "#         client.files.delete(file.id)\n",
    "\n",
    "# def cleanup_assistants():\n",
    "#     curr_assistants = list(client.beta.assistants.list())\n",
    "#     for curr_assistant in tqdm(curr_assistants):\n",
    "#         client.beta.assistants.delete(curr_assistant.id)\n",
    "\n",
    "# def cleanup_all():\n",
    "#     print(\"Cleaning up files\")\n",
    "#     cleanup_files()\n",
    "#     print(\"Cleaning up assistants\")\n",
    "#     cleanup_assistants()\n",
    "\n",
    "# cleanup_all()\n"
   ]
  },
  {
   "cell_type": "markdown",
   "metadata": {},
   "source": [
    "### LlamaIndex"
   ]
  },
  {
   "cell_type": "markdown",
   "metadata": {},
   "source": [
    "#### Setup"
   ]
  },
  {
   "cell_type": "code",
   "execution_count": 47,
   "metadata": {},
   "outputs": [],
   "source": [
    "from typing import Any\n",
    "from llama_index.llms import (\n",
    "    CustomLLM,\n",
    "    CompletionResponse,\n",
    "    CompletionResponseGen,\n",
    "    LLMMetadata,\n",
    ")\n",
    "from llama_index.llms.base import llm_completion_callback\n",
    "from openai.types.beta.assistant import Assistant\n",
    "\n",
    "class AssistantLLM(CustomLLM):\n",
    "    llama_assistant: Assistant\n",
    "    \n",
    "    @property\n",
    "    def metadata(self) -> LLMMetadata:\n",
    "        \"\"\"Get LLM metadata.\"\"\"\n",
    "        return LLMMetadata(\n",
    "            context_window=128000,\n",
    "            num_output=4096,\n",
    "            model_name=\"gpt-4-1106-preview\",\n",
    "        )\n",
    "\n",
    "    @llm_completion_callback()\n",
    "    def complete(self, prompt: str, **kwargs: Any) -> CompletionResponse:\n",
    "        response = get_response(prompt, self.llama_assistant)\n",
    "        return CompletionResponse(text=response)\n",
    "\n",
    "    @llm_completion_callback()\n",
    "    def stream_complete(\n",
    "        self, prompt: str, **kwargs: Any\n",
    "    ) -> CompletionResponseGen:\n",
    "        raise NotImplementedError()\n"
   ]
  },
  {
   "cell_type": "code",
   "execution_count": 49,
   "metadata": {},
   "outputs": [],
   "source": [
    "from llama_index import ServiceContext, VectorStoreIndex, SimpleDirectoryReader\n",
    "\n",
    "def setup_assistant(file_count):\n",
    "    combined_essays = combine_essays(file_count)\n",
    "    # Llama Index already injects into the prompt that the chatbot should not use external knowledge so we don't need to specify it here.\n",
    "    llama_assistant = client.beta.assistants.create(\n",
    "        name=f\"LLamaIndex Rag Test {file_count} Files\",\n",
    "        instructions=(\n",
    "            \"You are a chatbot that answers questions about Paul Graham's essays. \"\n",
    "        ),\n",
    "        model=\"gpt-4-1106-preview\",\n",
    "    )\n",
    "    service_context = ServiceContext.from_defaults(llm=AssistantLLM(llama_assistant=llama_assistant))\n",
    "    documents = SimpleDirectoryReader(\"combined_essays\").load_data()\n",
    "    index = VectorStoreIndex.from_documents(documents, service_context=service_context, show_progress=True)\n",
    "    query_engine = index.as_query_engine(service_context=service_context)\n",
    "    return query_engine\n"
   ]
  },
  {
   "cell_type": "markdown",
   "metadata": {},
   "source": [
    "#### Testing"
   ]
  },
  {
   "cell_type": "code",
   "execution_count": 9,
   "metadata": {},
   "outputs": [
    {
     "name": "stdout",
     "output_type": "stream",
     "text": [
      "Grouping 212 files into groups of 212 files for a total of 1 groups\n"
     ]
    },
    {
     "name": "stderr",
     "output_type": "stream",
     "text": [
      "100%|██████████| 212/212 [00:00<00:00, 1617.76it/s]"
     ]
    },
    {
     "name": "stdout",
     "output_type": "stream",
     "text": [
      "paul_graham_1.txt\n"
     ]
    },
    {
     "name": "stderr",
     "output_type": "stream",
     "text": [
      "\n",
      "C:\\Users\\EthanPhilpott\\AppData\\Roaming\\Python\\Python311\\site-packages\\tqdm\\auto.py:21: TqdmWarning: IProgress not found. Please update jupyter and ipywidgets. See https://ipywidgets.readthedocs.io/en/stable/user_install.html\n",
      "  from .autonotebook import tqdm as notebook_tqdm\n",
      "Parsing documents into nodes: 100%|██████████| 1/1 [00:02<00:00,  2.68s/it]\n",
      "Generating embeddings: 100%|██████████| 665/665 [00:34<00:00, 19.22it/s]\n"
     ]
    }
   ],
   "source": [
    "assistant = setup_assistant(1)"
   ]
  },
  {
   "cell_type": "code",
   "execution_count": 10,
   "metadata": {},
   "outputs": [],
   "source": [
    "def get_llama_response(prompt):\n",
    "    response = assistant.query(prompt)\n",
    "    context = [x.text for x in response.source_nodes]\n",
    "    return (response.response, context)"
   ]
  },
  {
   "cell_type": "code",
   "execution_count": 11,
   "metadata": {},
   "outputs": [
    {
     "name": "stdout",
     "output_type": "stream",
     "text": [
      "Airbnb's monthly financial goal to achieve ramen profitability during their time at Y Combinator was $4,000 a month.\n",
      "['That was the problem during Y Combinator: to get growth started. Airbnb\\'s goal during YC was to reach what we call ramen profitability, which means making enough money that the company can pay the founders\\' living expenses, if they live on ramen noodles. Ramen profitability is not, obviously, the end goal of any startup, but it\\'s the most important threshold on the way, because this is the point where you\\'re airborne. This is the point where you no longer need investors\\' permission to continue existing. For the Airbnbs, ramen profitability was $4000 a month: $3500 for rent, and $500 for food. To celebrate Airbnb\\'s IPO and to help future founders, I thought it might be useful to explain what was special about Airbnb. What was special about the Airbnbs was how earnest they were. They did nothing half-way, and we could sense this even in the interview. Sometimes after we interviewed a startup we\\'d be uncertain what to do, and have to talk it over. Other times we\\'d just look at one another and smile. The Airbnbs\\' interview was that kind. We didn\\'t even like the idea that much. Nor did users, at that stage; they had no growth. But the founders seemed so full of energy that it was impossible not to like them. That first impression was not misleading. During the batch our nickname for Brian Chesky was The Tasmanian Devil, because like the cartoon character he seemed a tornado of energy. All three of them were like that. No one ever worked harder during YC than the Airbnbs did. When you talked to the Airbnbs, they took notes. If you suggested an idea to them in office hours, the next time you talked to them they\\'d not only have implemented it, but also implemented two new ideas they had in the process. \"They probably have the best attitude of any startup we\\'ve funded\" I wrote to Mike Arrington during the batch. They\\'re still like that. Jessica and I had dinner with Brian in the summer of 2018, just the three of us. By this point the company is ten years old. He took a page of notes about ideas for new things Airbnb could do. What we didn\\'t realize when we first met Brian and Joe and Nate was that Airbnb was on its last legs. After working on the company for a year and getting no growth, they\\'d agreed to give it one last shot. They\\'d try this Y Combinator thing, and if the company still didn\\'t take off, they\\'d give up. Any normal person would have given up already. They\\'d been funding the company with credit cards. They had a binder full of credit cards they\\'d maxed out. Investors didn\\'t think much of the idea. One investor they met in a cafe walked out in the middle of meeting with them. They thought he was going to the bathroom, but he never came back. \"He didn\\'t even finish his smoothie,\" Brian said. And now, in late 2008, it was the worst recession in decades. The stock market was in free fall and wouldn\\'t hit bottom for another four months. Why hadn\\'t they given up? This is a useful question to ask. People, like matter, reveal their nature under extreme conditions. One thing that\\'s clear is that they weren\\'t doing this just for the money. As a money-making scheme, this was pretty lousy: a year\\'s work and all they had to show for it was a binder full of maxed-out credit cards. So why were they still working on this startup? Because of the experience they\\'d had as the first hosts. When they first tried renting out airbeds on their floor during a design convention, all they were hoping for was to make enough money to pay their rent that month. But something surprising happened: they enjoyed having those first three guests staying with them. And the guests enjoyed it too. Both they and the guests had done it because they were in a sense forced to, and yet they\\'d all had a great experience. Clearly there was something new here: for hosts, a new way to make money that had literally been right under their noses, and for guests, a new way to travel that was in many ways better than hotels. That experience was why the Airbnbs didn\\'t give up. They taped this goal to the mirror in the bathroom of their apartment. The way to get growth started in something like Airbnb is to focus on the hottest subset of the market. If you can get growth started there, it will spread to the rest.', 'If you can get growth started there, it will spread to the rest. When I asked the Airbnbs where there was most demand, they knew from searches: New York City. So they focused on New York. They went there in person to visit their hosts and help them make their listings more attractive. A big part of that was better pictures. So Joe and Brian rented a professional camera and took pictures of the hosts\\' places themselves. This didn\\'t just make the listings better. It also taught them about their hosts. When they came back from their first trip to New York, I asked what they\\'d noticed about hosts that surprised them, and they said the biggest surprise was how many of the hosts were in the same position they\\'d been in: they needed this money to pay their rent. This was, remember, the worst recession in decades, and it had hit New York first. It definitely added to the Airbnbs\\' sense of mission to feel that people needed them. In late January 2009, about three weeks into Y Combinator, their efforts started to show results, and their numbers crept upward. But it was hard to say for sure whether it was growth or just random fluctuation. By February it was clear that it was real growth. They made $460 in fees in the first week of February, $897 in the second, and $1428 in the third. That was it: they were airborne. Brian sent me an email on February 22 announcing that they were ramen profitable and giving the last three weeks\\' numbers.\"I assume you know what you\\'ve now set yourself up for next week,\" I responded. Brian\\'s reply was seven words: \"We are not going to slow down.\"']\n"
     ]
    }
   ],
   "source": [
    "llama_response = get_llama_response(\"What was Airbnb's monthly financial goal to achieve ramen profitability during their time at Y Combinator?\")\n",
    "print(llama_response[0])\n",
    "print(llama_response[1])"
   ]
  },
  {
   "cell_type": "code",
   "execution_count": 12,
   "metadata": {},
   "outputs": [
    {
     "name": "stderr",
     "output_type": "stream",
     "text": [
      "  0%|          | 0/55 [00:00<?, ?it/s]"
     ]
    },
    {
     "name": "stderr",
     "output_type": "stream",
     "text": [
      "100%|██████████| 55/55 [01:25<00:00,  1.55s/it]\n"
     ]
    }
   ],
   "source": [
    "from concurrent.futures import ThreadPoolExecutor\n",
    "from tqdm import tqdm\n",
    "\n",
    "# Using ThreadPoolExecutor to process questions in parallel\n",
    "with ThreadPoolExecutor(max_workers=10) as executor:\n",
    "    # Map the process_question function to each question in the list\n",
    "    results = list(tqdm(executor.map(get_llama_response, question_list), total=len(question_list)))\n",
    "\n",
    "# Unpack results into separate lists\n",
    "llama_responses, llama_context = zip(*results)"
   ]
  },
  {
   "cell_type": "code",
   "execution_count": 13,
   "metadata": {},
   "outputs": [],
   "source": [
    "openai_batch_scores = score_calculator.score_batch(\n",
    "    question_list=question_list,\n",
    "    reference_answer_list=answer_list,\n",
    "    llm_answer_list=llama_responses,\n",
    ")"
   ]
  },
  {
   "cell_type": "code",
   "execution_count": 14,
   "metadata": {},
   "outputs": [
    {
     "data": {
      "text/html": [
       "<div>\n",
       "<style scoped>\n",
       "    .dataframe tbody tr th:only-of-type {\n",
       "        vertical-align: middle;\n",
       "    }\n",
       "\n",
       "    .dataframe tbody tr th {\n",
       "        vertical-align: top;\n",
       "    }\n",
       "\n",
       "    .dataframe thead th {\n",
       "        text-align: right;\n",
       "    }\n",
       "</style>\n",
       "<table border=\"1\" class=\"dataframe\">\n",
       "  <thead>\n",
       "    <tr style=\"text-align: right;\">\n",
       "      <th></th>\n",
       "      <th>answer_similarity_score</th>\n",
       "    </tr>\n",
       "  </thead>\n",
       "  <tbody>\n",
       "    <tr>\n",
       "      <th>count</th>\n",
       "      <td>55.000000</td>\n",
       "    </tr>\n",
       "    <tr>\n",
       "      <th>mean</th>\n",
       "      <td>3.727273</td>\n",
       "    </tr>\n",
       "    <tr>\n",
       "      <th>std</th>\n",
       "      <td>1.592279</td>\n",
       "    </tr>\n",
       "    <tr>\n",
       "      <th>min</th>\n",
       "      <td>0.000000</td>\n",
       "    </tr>\n",
       "    <tr>\n",
       "      <th>25%</th>\n",
       "      <td>2.000000</td>\n",
       "    </tr>\n",
       "    <tr>\n",
       "      <th>50%</th>\n",
       "      <td>4.000000</td>\n",
       "    </tr>\n",
       "    <tr>\n",
       "      <th>75%</th>\n",
       "      <td>5.000000</td>\n",
       "    </tr>\n",
       "    <tr>\n",
       "      <th>max</th>\n",
       "      <td>5.000000</td>\n",
       "    </tr>\n",
       "  </tbody>\n",
       "</table>\n",
       "</div>"
      ],
      "text/plain": [
       "       answer_similarity_score\n",
       "count                55.000000\n",
       "mean                  3.727273\n",
       "std                   1.592279\n",
       "min                   0.000000\n",
       "25%                   2.000000\n",
       "50%                   4.000000\n",
       "75%                   5.000000\n",
       "max                   5.000000"
      ]
     },
     "execution_count": 14,
     "metadata": {},
     "output_type": "execute_result"
    }
   ],
   "source": [
    "openai_scores_df = openai_batch_scores.to_dataframe()\n",
    "# Remove overall_score column since we are only using one stat\n",
    "openai_scores_df = openai_scores_df.drop(columns=['overall_score'])\n",
    "openai_scores_df.describe()"
   ]
  },
  {
   "cell_type": "code",
   "execution_count": 15,
   "metadata": {},
   "outputs": [
    {
     "data": {
      "image/png": "[encoded data removed]",
      "text/plain": [
       "<Figure size 640x480 with 1 Axes>"
      ]
     },
     "metadata": {},
     "output_type": "display_data"
    }
   ],
   "source": [
    "import matplotlib.pyplot as plt\n",
    "category_counts = openai_scores_df['answer_similarity_score'].value_counts()\n",
    "plt.bar(category_counts.index, category_counts.values)\n",
    "\n",
    "plt.title('Distribution of scores for 1 document')\n",
    "plt.xlabel('Score')\n",
    "plt.ylabel('Count')\n",
    "\n",
    "plt.show()"
   ]
  },
  {
   "cell_type": "markdown",
   "metadata": {},
   "source": [
    "### Test"
   ]
  },
  {
   "cell_type": "code",
   "execution_count": 50,
   "metadata": {},
   "outputs": [],
   "source": [
    "from llama_index import ServiceContext, StorageContext, VectorStoreIndex, SimpleDirectoryReader\n",
    "from llama_index.vector_stores import PGVectorStore\n",
    "\n",
    "def setup_assistant(file_count):\n",
    "    combined_essays = combine_essays(file_count)\n",
    "    # Llama Index already injects into the prompt that the chatbot should not use external knowledge so we don't need to specify it here.\n",
    "    llama_assistant = client.beta.assistants.create(\n",
    "        name=f\"LLamaIndex Rag Test {file_count} Files\",\n",
    "        instructions=(\n",
    "            \"You are a chatbot that answers questions about Paul Graham's essays. \"\n",
    "        ),\n",
    "        model=\"gpt-4-1106-preview\",\n",
    "    )\n",
    "    service_context = ServiceContext.from_defaults(llm=AssistantLLM(llama_assistant=llama_assistant), chunk_size=80, chunk_overlap=60)\n",
    "    documents = SimpleDirectoryReader(\"combined_essays\").load_data()\n",
    "    \n",
    "    # Go through all the documents and add file_path to the excluded metadata\n",
    "    for document in tqdm(documents):\n",
    "        document.excluded_embed_metadata_keys.append(\"file_path\")\n",
    "        document.excluded_llm_metadata_keys.append(\"file_path\")\n",
    "\n",
    "    vector_store = PGVectorStore.from_params(\n",
    "        database=\"postgres\",\n",
    "        host=\"localhost\",\n",
    "        password=\"admin\",\n",
    "        port=\"5433\",\n",
    "        user=\"postgres\",\n",
    "        table_name=\"paul_graham_essay\",\n",
    "        embed_dim=1536,  # openai embedding dimension\n",
    "        hybrid_search=True,\n",
    "        text_search_config=\"english\"\n",
    "    )\n",
    "    storage_context = StorageContext.from_defaults(vector_store=vector_store)\n",
    "    index = VectorStoreIndex.from_documents(documents, service_context=service_context, storage_context=storage_context, show_progress=True)\n",
    "    query_engine = index.as_query_engine(vector_store_query_mode=\"hybrid\", service_context=service_context, sparse_top_k=8)\n",
    "    return query_engine\n"
   ]
  },
  {
   "cell_type": "code",
   "execution_count": 51,
   "metadata": {},
   "outputs": [
    {
     "name": "stdout",
     "output_type": "stream",
     "text": [
      "Grouping 212 files into groups of 212 files for a total of 1 groups\n"
     ]
    },
    {
     "name": "stderr",
     "output_type": "stream",
     "text": [
      "\n",
      "\u001b[A\n",
      "100%|██████████| 212/212 [00:00<00:00, 1558.31it/s]"
     ]
    },
    {
     "name": "stdout",
     "output_type": "stream",
     "text": [
      "paul_graham_1.txt\n"
     ]
    },
    {
     "name": "stderr",
     "output_type": "stream",
     "text": [
      "\n",
      "\n",
      "100%|██████████| 1/1 [00:00<?, ?it/s]\n",
      "\n",
      "Generating embeddings:   0%|          | 9/22962 [01:00<42:37:48,  6.69s/it]\n",
      "\n",
      "Parsing documents into nodes: 100%|██████████| 1/1 [00:05<00:00,  5.13s/it]\n",
      "Generating embeddings: 100%|██████████| 22962/22962 [24:25<00:00, 15.67it/s]  \n"
     ]
    }
   ],
   "source": [
    "assistant = setup_assistant(1)"
   ]
  },
  {
   "cell_type": "code",
   "execution_count": 52,
   "metadata": {},
   "outputs": [],
   "source": [
    "def get_llama_response(prompt):\n",
    "    response = assistant.query(prompt)\n",
    "    context = [x.text for x in response.source_nodes]\n",
    "    return (response.response, context)"
   ]
  },
  {
   "cell_type": "code",
   "execution_count": 53,
   "metadata": {},
   "outputs": [
    {
     "name": "stderr",
     "output_type": "stream",
     "text": [
      "  0%|          | 0/55 [00:00<?, ?it/s]"
     ]
    },
    {
     "name": "stderr",
     "output_type": "stream",
     "text": [
      "c:\\Users\\EthanPhilpott\\AppData\\Local\\Programs\\Python\\Python311\\Lib\\site-packages\\llama_index\\vector_stores\\postgres.py:449: SAWarning: UserDefinedType REGCONFIG() will not produce a cache key because the ``cache_ok`` attribute is not set to True.  This can have significant performance implications including some performance degradations in comparison to prior SQLAlchemy versions.  Set this attribute to True if this type object's state is safe to use in a cache key, or False to disable this warning. (Background on this warning at: https://sqlalche.me/e/20/cprf)\n",
      "  res = session.execute(stmt)\n",
      "100%|██████████| 55/55 [01:19<00:00,  1.44s/it]\n"
     ]
    }
   ],
   "source": [
    "from concurrent.futures import ThreadPoolExecutor\n",
    "from tqdm import tqdm\n",
    "\n",
    "# Using ThreadPoolExecutor to process questions in parallel\n",
    "with ThreadPoolExecutor(max_workers=10) as executor:\n",
    "    # Map the process_question function to each question in the list\n",
    "    results = list(tqdm(executor.map(get_llama_response, question_list), total=len(question_list)))\n",
    "\n",
    "# Unpack results into separate lists\n",
    "llama_responses, llama_context = zip(*results)"
   ]
  },
  {
   "cell_type": "code",
   "execution_count": 57,
   "metadata": {},
   "outputs": [],
   "source": [
    "openai_batch_scores = score_calculator.score_batch(\n",
    "    question_list=question_list,\n",
    "    reference_answer_list=answer_list,\n",
    "    llm_answer_list=llama_responses,\n",
    ")"
   ]
  },
  {
   "cell_type": "code",
   "execution_count": 58,
   "metadata": {},
   "outputs": [
    {
     "data": {
      "text/html": [
       "<div>\n",
       "<style scoped>\n",
       "    .dataframe tbody tr th:only-of-type {\n",
       "        vertical-align: middle;\n",
       "    }\n",
       "\n",
       "    .dataframe tbody tr th {\n",
       "        vertical-align: top;\n",
       "    }\n",
       "\n",
       "    .dataframe thead th {\n",
       "        text-align: right;\n",
       "    }\n",
       "</style>\n",
       "<table border=\"1\" class=\"dataframe\">\n",
       "  <thead>\n",
       "    <tr style=\"text-align: right;\">\n",
       "      <th></th>\n",
       "      <th>answer_similarity_score</th>\n",
       "    </tr>\n",
       "  </thead>\n",
       "  <tbody>\n",
       "    <tr>\n",
       "      <th>count</th>\n",
       "      <td>55.000000</td>\n",
       "    </tr>\n",
       "    <tr>\n",
       "      <th>mean</th>\n",
       "      <td>4.000000</td>\n",
       "    </tr>\n",
       "    <tr>\n",
       "      <th>std</th>\n",
       "      <td>1.440165</td>\n",
       "    </tr>\n",
       "    <tr>\n",
       "      <th>min</th>\n",
       "      <td>0.000000</td>\n",
       "    </tr>\n",
       "    <tr>\n",
       "      <th>25%</th>\n",
       "      <td>4.000000</td>\n",
       "    </tr>\n",
       "    <tr>\n",
       "      <th>50%</th>\n",
       "      <td>5.000000</td>\n",
       "    </tr>\n",
       "    <tr>\n",
       "      <th>75%</th>\n",
       "      <td>5.000000</td>\n",
       "    </tr>\n",
       "    <tr>\n",
       "      <th>max</th>\n",
       "      <td>5.000000</td>\n",
       "    </tr>\n",
       "  </tbody>\n",
       "</table>\n",
       "</div>"
      ],
      "text/plain": [
       "       answer_similarity_score\n",
       "count                55.000000\n",
       "mean                  4.000000\n",
       "std                   1.440165\n",
       "min                   0.000000\n",
       "25%                   4.000000\n",
       "50%                   5.000000\n",
       "75%                   5.000000\n",
       "max                   5.000000"
      ]
     },
     "execution_count": 58,
     "metadata": {},
     "output_type": "execute_result"
    }
   ],
   "source": [
    "openai_scores_df = openai_batch_scores.to_dataframe()\n",
    "# Remove overall_score column since we are only using one stat\n",
    "openai_scores_df = openai_scores_df.drop(columns=['overall_score'])\n",
    "openai_scores_df.describe()"
   ]
  },
  {
   "cell_type": "code",
   "execution_count": 59,
   "metadata": {},
   "outputs": [
    {
     "data": {
      "image/png": "[encoded data removed]",
      "text/plain": [
       "<Figure size 640x480 with 1 Axes>"
      ]
     },
     "metadata": {},
     "output_type": "display_data"
    }
   ],
   "source": [
    "import matplotlib.pyplot as plt\n",
    "category_counts = openai_scores_df['answer_similarity_score'].value_counts()\n",
    "plt.bar(category_counts.index, category_counts.values)\n",
    "\n",
    "plt.title('Distribution of scores for 1 document')\n",
    "plt.xlabel('Score')\n",
    "plt.ylabel('Count')\n",
    "\n",
    "plt.show()"
   ]
  },
  {
   "cell_type": "code",
   "execution_count": null,
   "metadata": {},
   "outputs": [],
   "source": []
  },
  {
   "cell_type": "code",
   "execution_count": null,
   "metadata": {},
   "outputs": [],
   "source": []
  }
 ],
 "metadata": {
  "kernelspec": {
   "display_name": "Python 3",
   "language": "python",
   "name": "python3"
  },
  "language_info": {
   "codemirror_mode": {
    "name": "ipython",
    "version": 3
   },
   "file_extension": ".py",
   "mimetype": "text/x-python",
   "name": "python",
   "nbconvert_exporter": "python",
   "pygments_lexer": "ipython3",
   "version": "3.11.6"
  }
 },
 "nbformat": 4,
 "nbformat_minor": 2
}
