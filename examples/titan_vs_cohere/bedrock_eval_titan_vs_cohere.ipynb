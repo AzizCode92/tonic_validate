{
 "cells": [
  {
   "cell_type": "markdown",
   "id": "a7f1abf6-f13a-4dd7-94bd-a097fe53e73f",
   "metadata": {},
   "source": [
    "## Setup"
   ]
  },
  {
   "cell_type": "code",
   "execution_count": 1,
   "id": "5231a396-8dc3-4dce-abb8-4a676555d6d9",
   "metadata": {},
   "outputs": [],
   "source": [
    "from typing import List\n",
    "from abc import ABC, abstractmethod\n",
    "import boto3\n",
    "import json\n",
    "import os\n",
    "from dataclasses import dataclass\n",
    "import tiktoken\n",
    "from tonic_validate import ValidateScorer, Benchmark, LLMResponse, BenchmarkItem, Run\n",
    "from tonic_validate.metrics import AnswerSimilarityMetric \n",
    "from concurrent.futures import ThreadPoolExecutor\n",
    "from tqdm import tqdm\n",
    "import pandas as pd\n",
    "import matplotlib.pyplot as plt"
   ]
  },
  {
   "cell_type": "code",
   "execution_count": 2,
   "id": "8801ab79-19aa-47fd-b67a-cf71453186f5",
   "metadata": {},
   "outputs": [],
   "source": [
    "profile_name = os.environ[\"AWS_PROFILE_NAME\"]\n",
    "boto3.setup_default_session(profile_name=profile_name)"
   ]
  },
  {
   "cell_type": "code",
   "execution_count": 3,
   "id": "0484632c-d205-416c-9aea-ecea8cda3f45",
   "metadata": {},
   "outputs": [],
   "source": [
    "@dataclass\n",
    "class RagAnswer():\n",
    "    answer: str\n",
    "    context_list: List[str]\n",
    "\n",
    "class RagAgent(ABC):\n",
    "    def __init__(\n",
    "        self,\n",
    "        knowledge_base_id: str,\n",
    "        top_k: int,\n",
    "        temperature: float,\n",
    "        max_token_count: int\n",
    "    ):\n",
    "        self.knowledge_base_id = knowledge_base_id\n",
    "        self.top_k = top_k\n",
    "        self.temperature = temperature\n",
    "        self.max_token_count = max_token_count\n",
    "\n",
    "        self.bedrock_agent_runtime = boto3.client(\n",
    "            service_name=\"bedrock-agent-runtime\"\n",
    "        )\n",
    "        self.bedrock_runtime = boto3.client(\n",
    "            service_name=\"bedrock-runtime\"\n",
    "        )\n",
    "        \n",
    "    def retrieve_context(self, query: str) -> List[str]:\n",
    "        retrieval_results = self.bedrock_agent_runtime.retrieve(\n",
    "            retrievalQuery={\"text\": query},\n",
    "            knowledgeBaseId=self.knowledge_base_id,\n",
    "            retrievalConfiguration={\n",
    "                \"vectorSearchConfiguration\": {\"numberOfResults\": self.top_k}\n",
    "            }\n",
    "        )[\"retrievalResults\"]\n",
    "\n",
    "        return [x[\"content\"][\"text\"] for x in retrieval_results]\n",
    "\n",
    "    def augment_query(self, query: str, context_list: List[str]) -> str:\n",
    "        prompt = \"You are a helpful assistant that answers user's queries.\\n\"\n",
    "        prompt += f\"User Query: {query}\\n\"\n",
    "        prompt += f\"Query Context:\\n\\n\"\n",
    "        for context in context_list:\n",
    "            prompt += f\"{context}\\n\\n\"\n",
    "        prompt += \"Answer the user query using the query context.\"\n",
    "\n",
    "        return prompt\n",
    "\n",
    "    @abstractmethod\n",
    "    def get_response_from_model(self, model_prompt: str) -> str:\n",
    "        pass\n",
    "        \n",
    "    def answer_question(self, question: str) -> RagAnswer:\n",
    "        context_list = self.retrieve_context(question)\n",
    "        model_prompt = self.augment_query(question, context_list)\n",
    "        model_response = self.get_response_from_model(model_prompt)\n",
    "        return RagAnswer(model_response, context_list)\n",
    "\n",
    "class TitanRagAgent(RagAgent):\n",
    "    def __init__(\n",
    "        self,\n",
    "        knowledge_base_id: str,\n",
    "        top_k: int = 5,\n",
    "        temperature: float = 0.2,\n",
    "        max_token_count: int = 4000\n",
    "    ):\n",
    "        super().__init__(knowledge_base_id, top_k, temperature, max_token_count)\n",
    "        self.model_id = \"amazon.titan-text-express-v1\"\n",
    "\n",
    "    def get_response_from_model(self, model_prompt: str) -> str:\n",
    "        \n",
    "        body = {\n",
    "            \"inputText\": model_prompt,\n",
    "            \"textGenerationConfig\":\n",
    "            {\n",
    "                \"temperature\": self.temperature,\n",
    "                \"maxTokenCount\": self.max_token_count,\n",
    "            }\n",
    "        }\n",
    "\n",
    "        response = self.bedrock_runtime.invoke_model(\n",
    "            modelId=self.model_id, body=json.dumps(body)\n",
    "        )\n",
    "\n",
    "        response_body = json.loads(response[\"body\"].read())\n",
    "\n",
    "        return response_body[\"results\"][0][\"outputText\"]\n",
    "\n",
    "\n",
    "class CohereRagAgent(RagAgent):\n",
    "    def __init__(\n",
    "        self,\n",
    "        knowledge_base_id: str,\n",
    "        top_k: int = 5,\n",
    "        temperature: float = 0.2,\n",
    "        max_token_count: int = 4000\n",
    "    ):\n",
    "        super().__init__(knowledge_base_id, top_k, temperature, max_token_count)\n",
    "        self.model_id = \"cohere.command-text-v14\"\n",
    "\n",
    "    def get_response_from_model(self, model_prompt: str) -> str:\n",
    "        \n",
    "        body = {\n",
    "            \"prompt\": model_prompt,\n",
    "            \"temperature\": self.temperature,\n",
    "            \"max_tokens\": self.max_token_count,\n",
    "        }\n",
    "\n",
    "        response = self.bedrock_runtime.invoke_model(\n",
    "            modelId=self.model_id, body=json.dumps(body)\n",
    "        )\n",
    "\n",
    "        response_body = json.loads(response[\"body\"].read())\n",
    "\n",
    "        return response_body[\"generations\"][0][\"text\"]\n",
    "\n",
    "def run_to_dataframe(run: Run) -> pd.DataFrame:\n",
    "    return pd.DataFrame(\n",
    "        {\n",
    "            \"reference_question\": [x.reference_question for x in run.run_data],\n",
    "            \"reference_answer\": [x.reference_answer for x in run.run_data],\n",
    "            \"llm_answer\": [x.llm_answer for x in run.run_data],\n",
    "            \"llm_context\": [json.dumps(x.llm_context) for x in run.run_data],\n",
    "            \"answer_similarity\": [x.scores[\"answer_similarity\"] for x in run.run_data]\n",
    "        }\n",
    "    )"
   ]
  },
  {
   "cell_type": "code",
   "execution_count": 4,
   "id": "5e5d54a7-4923-49be-8c02-da3bea2c3d00",
   "metadata": {},
   "outputs": [],
   "source": [
    "with open(\"qa_pairs.json\", \"r\") as f:\n",
    "    qa_pairs = json.load(f)\n",
    "\n",
    "# for testing\n",
    "qa_pairs = qa_pairs\n",
    "\n",
    "benchmark = Benchmark(\n",
    "    questions=[x[\"question\"] for x in qa_pairs],\n",
    "    answers=[x[\"answer\"] for x in qa_pairs]\n",
    ")"
   ]
  },
  {
   "cell_type": "markdown",
   "id": "9cff4bbd-4aab-4428-8dee-7707e4d2018f",
   "metadata": {},
   "source": [
    "# Titan"
   ]
  },
  {
   "cell_type": "code",
   "execution_count": 5,
   "id": "df055fac-950b-4dee-9df2-54d569faa550",
   "metadata": {},
   "outputs": [],
   "source": [
    "titan_knowledge_base_id = os.environ[\"TITAN_KNOWLEDGE_BASE_ID\"]\n",
    "titan_rag = TitanRagAgent(titan_knowledge_base_id)"
   ]
  },
  {
   "cell_type": "code",
   "execution_count": 6,
   "id": "0aa95cf8-199d-4b63-b5a0-1e9d4120306a",
   "metadata": {},
   "outputs": [],
   "source": [
    "def get_titan_response(benchmark_item: BenchmarkItem) -> str:\n",
    "    query = benchmark_item.question\n",
    "    return titan_rag.answer_question(query)"
   ]
  },
  {
   "cell_type": "markdown",
   "id": "38817153-9440-4094-897a-86629c467be1",
   "metadata": {},
   "source": [
    "#### Test an example"
   ]
  },
  {
   "cell_type": "code",
   "execution_count": 7,
   "id": "7fe35ea9-c191-4638-b7e9-ee125006fc3e",
   "metadata": {},
   "outputs": [
    {
     "name": "stdout",
     "output_type": "stream",
     "text": [
      "\n",
      "$4000\n"
     ]
    }
   ],
   "source": [
    "benchmark_item = BenchmarkItem(\n",
    "    question=\"What was Airbnb's monthly financial goal to achieve ramen profitability during their time at Y Combinator?\",\n",
    "    answer=\"Airbnb's monthly financial goal to achieve ramen profitability during their time at Y Combinator was $4000 a month.\"\n",
    ")\n",
    "\n",
    "print(get_titan_response(benchmark_item).answer)"
   ]
  },
  {
   "cell_type": "markdown",
   "id": "44287906-25b1-4304-b28d-b23e3e7e1b43",
   "metadata": {},
   "source": [
    "#### Run through all the questions"
   ]
  },
  {
   "cell_type": "code",
   "execution_count": 8,
   "id": "da580f9b-7fa2-4a91-abcc-690299a8b550",
   "metadata": {},
   "outputs": [
    {
     "name": "stderr",
     "output_type": "stream",
     "text": [
      "100%|████████████████████████████████████████████████████████████████████████████████████████████████████████████████████████| 55/55 [00:33<00:00,  1.65it/s]\n"
     ]
    }
   ],
   "source": [
    "with ThreadPoolExecutor(max_workers=10) as executor:\n",
    "    raw_titan_responses = list(tqdm(executor.map(get_titan_response, benchmark.items), total=len(benchmark.items)))\n"
   ]
  },
  {
   "cell_type": "code",
   "execution_count": 9,
   "id": "eb4a9d3b-17e0-4af9-9325-51df220d2d1e",
   "metadata": {},
   "outputs": [],
   "source": [
    "titan_responses = [\n",
    "    LLMResponse(\n",
    "        llm_answer=r.answer, llm_context_list=r.context_list, benchmark_item=bi\n",
    "    ) for r, bi in zip(raw_titan_responses, benchmark.items)\n",
    "]"
   ]
  },
  {
   "cell_type": "code",
   "execution_count": 10,
   "id": "c1632913-2612-4459-8eba-403ab72335ea",
   "metadata": {},
   "outputs": [],
   "source": [
    "scorer = ValidateScorer([AnswerSimilarityMetric()])\n",
    "titan_run = scorer.score_run(titan_responses)"
   ]
  },
  {
   "cell_type": "code",
   "execution_count": 11,
   "id": "8c77469a-eece-4931-bf9b-bf77dcf5e564",
   "metadata": {},
   "outputs": [],
   "source": [
    "titan_run_df = run_to_dataframe(titan_run)\n",
    "titan_run_df.to_csv(\"titan_run.csv\", index=False)"
   ]
  },
  {
   "cell_type": "code",
   "execution_count": 12,
   "id": "d2c2bf06-1133-42f6-a5db-c66aaf4dd416",
   "metadata": {},
   "outputs": [
    {
     "data": {
      "image/png": "[encoded data removed]",
      "text/plain": [
       "<Figure size 640x480 with 1 Axes>"
      ]
     },
     "metadata": {},
     "output_type": "display_data"
    }
   ],
   "source": [
    "titan_answer_similarity_scores = pd.Series([x.scores[\"answer_similarity\"] for x in titan_run.run_data])\n",
    "category_counts = titan_answer_similarity_scores.value_counts()\n",
    "plt.bar(category_counts.index, category_counts.values)\n",
    "\n",
    "plt.title('Distribution of scores for Titan')\n",
    "plt.xlabel('Score')\n",
    "plt.ylabel('Count')\n",
    "\n",
    "plt.bar(category_counts.index, category_counts.values, color='#A679C8')\n",
    "\n",
    "# Remove all scores except whole numbers\n",
    "plt.xticks(range(0, 6, 1))\n",
    "\n",
    "plt.show()"
   ]
  },
  {
   "cell_type": "markdown",
   "id": "50c7d63d-cb51-413c-a2a0-ed9518b15c02",
   "metadata": {},
   "source": [
    "# Cohere"
   ]
  },
  {
   "cell_type": "code",
   "execution_count": 13,
   "id": "2fdd3efa-8da3-4112-949d-704d75dda3c9",
   "metadata": {},
   "outputs": [],
   "source": [
    "cohere_knowledge_base_id = os.environ[\"COHERE_KNOWLEDGE_BASE_ID\"]\n",
    "cohere_rag = CohereRagAgent(cohere_knowledge_base_id)"
   ]
  },
  {
   "cell_type": "code",
   "execution_count": 14,
   "id": "197efe7e-8e66-43f5-86be-65056787424a",
   "metadata": {},
   "outputs": [],
   "source": [
    "def get_cohere_response(benchmark_item: BenchmarkItem) -> str:\n",
    "    query = benchmark_item.question\n",
    "    return cohere_rag.answer_question(query)"
   ]
  },
  {
   "cell_type": "code",
   "execution_count": 15,
   "id": "6466f672-fe58-456c-a3c3-a9b7ec3f82c2",
   "metadata": {},
   "outputs": [
    {
     "name": "stdout",
     "output_type": "stream",
     "text": [
      " Airbnb's monthly financial goal to achieve ramen profitability during their time at Y Combinator was $3500 for rent, and $500 for food, totaling $4,000 per month. \n",
      "\n",
      "This goal was set as the company aimed to make just enough money to pay the founders' living expenses. This threshold, as Paul Graham notes, is important for startups because it is the point at which a company can operate independently of investors. \n"
     ]
    }
   ],
   "source": [
    "benchmark_item = BenchmarkItem(\n",
    "    question=\"What was Airbnb's monthly financial goal to achieve ramen profitability during their time at Y Combinator?\",\n",
    "    answer=\"Airbnb's monthly financial goal to achieve ramen profitability during their time at Y Combinator was $4000 a month.\"\n",
    ")\n",
    "\n",
    "print(get_cohere_response(benchmark_item).answer)"
   ]
  },
  {
   "cell_type": "code",
   "execution_count": 16,
   "id": "30e4e7d6-d29b-4a65-abcf-88ec6a49b671",
   "metadata": {},
   "outputs": [
    {
     "name": "stderr",
     "output_type": "stream",
     "text": [
      "100%|████████████████████████████████████████████████████████████████████████████████████████████████████████████████████████| 55/55 [01:23<00:00,  1.52s/it]\n"
     ]
    }
   ],
   "source": [
    "with ThreadPoolExecutor(max_workers=10) as executor:\n",
    "    raw_cohere_responses = list(tqdm(executor.map(get_cohere_response, benchmark.items), total=len(benchmark.items)))"
   ]
  },
  {
   "cell_type": "code",
   "execution_count": 17,
   "id": "541c0c4b-ae4f-4247-b529-3278f8882fa9",
   "metadata": {},
   "outputs": [],
   "source": [
    "cohere_responses = [\n",
    "    LLMResponse(\n",
    "        llm_answer=r.answer, llm_context_list=r.context_list, benchmark_item=bi\n",
    "    ) for r, bi in zip(raw_cohere_responses, benchmark.items)\n",
    "]"
   ]
  },
  {
   "cell_type": "code",
   "execution_count": 18,
   "id": "92632b28-6784-49e5-b2a6-87be18743edb",
   "metadata": {},
   "outputs": [],
   "source": [
    "scorer = ValidateScorer([AnswerSimilarityMetric()])\n",
    "cohere_run = scorer.score_run(cohere_responses)"
   ]
  },
  {
   "cell_type": "code",
   "execution_count": 19,
   "id": "42ef5d21-27c2-4538-a91b-1ff2415b8595",
   "metadata": {},
   "outputs": [],
   "source": [
    "cohere_run_df = run_to_dataframe(cohere_run)\n",
    "cohere_run_df.to_csv(\"cohere_run.csv\", index=False)"
   ]
  },
  {
   "cell_type": "code",
   "execution_count": 20,
   "id": "21faa72e-3627-4ea1-a8e8-c8f41bad0a45",
   "metadata": {},
   "outputs": [
    {
     "data": {
      "image/png": "[encoded data removed]",
      "text/plain": [
       "<Figure size 640x480 with 1 Axes>"
      ]
     },
     "metadata": {},
     "output_type": "display_data"
    }
   ],
   "source": [
    "cohere_answer_similarity_scores = pd.Series([x.scores[\"answer_similarity\"] for x in cohere_run.run_data])\n",
    "category_counts = cohere_answer_similarity_scores.value_counts()\n",
    "plt.bar(category_counts.index, category_counts.values)\n",
    "\n",
    "plt.title('Distribution of scores for Cohere')\n",
    "plt.xlabel('Score')\n",
    "plt.ylabel('Count')\n",
    "\n",
    "plt.bar(category_counts.index, category_counts.values, color='#A679C8')\n",
    "\n",
    "# Remove all scores except whole numbers\n",
    "plt.xticks(range(0, 6, 1))\n",
    "\n",
    "plt.show()"
   ]
  },
  {
   "cell_type": "code",
   "execution_count": 21,
   "id": "ca85bfd6-5bf4-4f70-8621-53f0971b61a2",
   "metadata": {},
   "outputs": [
    {
     "data": {
      "image/png": "[encoded data removed]",
      "text/plain": [
       "<Figure size 1000x500 with 1 Axes>"
      ]
     },
     "metadata": {},
     "output_type": "display_data"
    }
   ],
   "source": [
    "import matplotlib.pyplot as plt\n",
    "import numpy as np\n",
    "\n",
    "combined_scores = pd.DataFrame({\n",
    "    \"Titan\": list(titan_run_df[\"answer_similarity\"]),\n",
    "    \"Cohere\": list(cohere_run_df[\"answer_similarity\"])\n",
    "})\n",
    "\n",
    "# Position of bars on x-axis\n",
    "ind = np.arange(6)\n",
    "\n",
    "# Figure size\n",
    "plt.figure(figsize=(10,5))\n",
    "\n",
    "# Width of a bar \n",
    "width = 0.3\n",
    "\n",
    "haystack_counts = combined_scores[\"Titan\"].value_counts().reindex([0,1,2,3,4,5], fill_value=0)\n",
    "plt.bar(haystack_counts.index, haystack_counts.values, width, label=\"Titan\", color=\"#5EA7EC\")\n",
    "\n",
    "langchain_counts = combined_scores[\"Cohere\"].value_counts().reindex([0,1,2,3,4,5], fill_value=0)\n",
    "plt.bar(langchain_counts.index + width, langchain_counts.values, width, label=\"Cohere\", color=\"#A679C8\")\n",
    "\n",
    "plt.title('Distribution of scores for Titan & Cohere')\n",
    "plt.xlabel('Answer Similarity Score')\n",
    "plt.ylabel('Count')\n",
    "\n",
    "# Remove all scores except whole numbers\n",
    "plt.xticks(ind + width / 2, range(0, 6, 1))\n",
    "\n",
    "plt.legend(loc='best')\n",
    "\n",
    "# Rounding the descriptive statistics to 3 significant figures\n",
    "statistics_df = combined_scores.describe()\n",
    "# Change 50% to 50% (median)\n",
    "statistics_df = statistics_df.rename(index={'50%': 'median'})\n",
    "rounded_statistics_df = statistics_df.round(3)\n",
    "\n",
    "# Transposing the descriptive statistics table for horizontal display\n",
    "rounded_statistics_df = rounded_statistics_df.T\n",
    "\n",
    "# Adding the table below the histogram\n",
    "table = plt.table(cellText=rounded_statistics_df.values,\n",
    "                  colWidths=[0.1] * len(rounded_statistics_df.columns),\n",
    "                  rowLabels=rounded_statistics_df.index,\n",
    "                  colLabels=rounded_statistics_df.columns,\n",
    "                  cellLoc = 'center', rowLoc = 'center',\n",
    "                  loc='bottom', bbox=[0.0, -0.5, 1.0, 0.3])\n",
    "\n",
    "plt.subplots_adjust(left=0.2, bottom=0.3)\n",
    "plt.savefig(\"titan_v_cohere.png\", facecolor='white', bbox_inches='tight')\n",
    "\n",
    "plt.show()"
   ]
  },
  {
   "cell_type": "code",
   "execution_count": null,
   "id": "3a47537c-cfe7-4b72-9850-b9767b623391",
   "metadata": {},
   "outputs": [],
   "source": []
  }
 ],
 "metadata": {
  "kernelspec": {
   "display_name": "Python (solar_env)",
   "language": "python",
   "name": "solar_env"
  },
  "language_info": {
   "codemirror_mode": {
    "name": "ipython",
    "version": 3
   },
   "file_extension": ".py",
   "mimetype": "text/x-python",
   "name": "python",
   "nbconvert_exporter": "python",
   "pygments_lexer": "ipython3",
   "version": "3.11.4"
  }
 },
 "nbformat": 4,
 "nbformat_minor": 5
}
