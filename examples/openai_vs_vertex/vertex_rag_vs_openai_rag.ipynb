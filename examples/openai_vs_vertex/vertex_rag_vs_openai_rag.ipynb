{
 "cells": [
  {
   "cell_type": "markdown",
   "metadata": {},
   "source": [
    "### Setup"
   ]
  },
  {
   "cell_type": "code",
   "execution_count": 21,
   "metadata": {},
   "outputs": [],
   "source": [
    "from typing import List\n",
    "from openai import OpenAI\n",
    "from tonic_validate import ValidateScorer, Benchmark, BenchmarkItem, LLMResponse, BenchmarkItem, Run\n",
    "from tonic_validate.metrics import AnswerSimilarityMetric\n",
    "from concurrent.futures import ThreadPoolExecutor\n",
    "from tqdm import tqdm\n",
    "import os\n",
    "import time\n",
    "import json\n",
    "import pandas as pd\n",
    "import matplotlib.pyplot as plt\n",
    "\n",
    "\n",
    "with open(\"qa_pairs.json\", \"r\") as f:\n",
    "    qa_pairs = json.load(f)\n",
    "\n",
    "# for testing\n",
    "qa_pairs = qa_pairs\n",
    "\n",
    "benchmark = Benchmark(\n",
    "    questions=[x[\"question\"] for x in qa_pairs],\n",
    "    answers=[x[\"answer\"] for x in qa_pairs]\n",
    ")\n",
    "\n",
    "def run_to_dataframe(run: Run) -> pd.DataFrame:\n",
    "    return pd.DataFrame(\n",
    "        {\n",
    "            \"reference_question\": [x.reference_question for x in run.run_data],\n",
    "            \"reference_answer\": [x.reference_answer for x in run.run_data],\n",
    "            \"llm_answer\": [x.llm_answer for x in run.run_data],\n",
    "            \"llm_context\": [json.dumps(x.llm_context) for x in run.run_data],\n",
    "            \"answer_similarity\": [x.scores[\"answer_similarity\"] for x in run.run_data]\n",
    "        }\n",
    "    )"
   ]
  },
  {
   "cell_type": "markdown",
   "metadata": {},
   "source": [
    "### Vertex Conversation and Search"
   ]
  },
  {
   "cell_type": "markdown",
   "metadata": {},
   "source": [
    "#### Setup"
   ]
  },
  {
   "cell_type": "code",
   "execution_count": 22,
   "metadata": {},
   "outputs": [],
   "source": [
    "from google.api_core.client_options import ClientOptions\n",
    "from google.cloud import discoveryengine_v1 as discoveryengine\n",
    "\n",
    "\n",
    "# The 3 variables below need to be obtained from your GCP account.\n",
    "# The data_store_id is the data store created in Vertex AI Search and Conversation.\n",
    "# To load data simply upload the ~200 essays in examples/titan_vs_cohere/paul_graham_essays into a GCS bucket and reference the bucket from your data store. \n",
    "project_id=''\n",
    "data_store_id=''\n",
    "location='global'\n",
    "\n",
    "def get_vertex_response(benchMarkItem: BenchmarkItem) -> List[discoveryengine.SearchResponse]:\n",
    "    \n",
    "    client_options = (\n",
    "        ClientOptions(api_endpoint=f\"{location}-discoveryengine.googleapis.com\")\n",
    "        if location != \"global\"\n",
    "        else None\n",
    "    )\n",
    "\n",
    "    client = discoveryengine.SearchServiceClient(client_options=client_options)\n",
    "\n",
    "    serving_config = client.serving_config_path(\n",
    "        project=project_id,\n",
    "        location=location,\n",
    "        data_store=data_store_id,\n",
    "        serving_config=\"default_config\",\n",
    "    )\n",
    "\n",
    "    content_search_spec = discoveryengine.SearchRequest.ContentSearchSpec(\n",
    "        snippet_spec=discoveryengine.SearchRequest.ContentSearchSpec.SnippetSpec(\n",
    "            return_snippet=True\n",
    "        ),\n",
    "        summary_spec=discoveryengine.SearchRequest.ContentSearchSpec.SummarySpec(\n",
    "            summary_result_count=5,\n",
    "            include_citations=True,\n",
    "            ignore_adversarial_query=True,\n",
    "            ignore_non_summary_seeking_query=True,\n",
    "        ),\n",
    "    )\n",
    "    \n",
    "    request = discoveryengine.SearchRequest(\n",
    "        serving_config=serving_config,\n",
    "        query=benchMarkItem.question,\n",
    "        page_size=10,\n",
    "        content_search_spec=content_search_spec,\n",
    "        query_expansion_spec=discoveryengine.SearchRequest.QueryExpansionSpec(\n",
    "            condition=discoveryengine.SearchRequest.QueryExpansionSpec.Condition.AUTO,\n",
    "        ),\n",
    "        spell_correction_spec=discoveryengine.SearchRequest.SpellCorrectionSpec(\n",
    "            mode=discoveryengine.SearchRequest.SpellCorrectionSpec.Mode.AUTO\n",
    "        ),\n",
    "    )\n",
    "\n",
    "    response = client.search(request)\n",
    "    return response.summary.summary_text"
   ]
  },
  {
   "cell_type": "markdown",
   "metadata": {},
   "source": [
    "#### Testing"
   ]
  },
  {
   "cell_type": "code",
   "execution_count": 23,
   "metadata": {},
   "outputs": [
    {
     "name": "stdout",
     "output_type": "stream",
     "text": [
      "According to Paul Graham, you only need two kinds of people to create a technology hub: rich people and nerds [1]. To create a startup hub, you need to establish a first-rate research university in a place so nice that rich people wanted to live there [4]. The town would be hospitable to both groups you need: both founders and investors [4].\n"
     ]
    }
   ],
   "source": [
    "benchmark_item = BenchmarkItem(\n",
    "    question=\"What key components are necessary to create a technology hub according to Paul Graham?\",\n",
    "    answer=\"\"\n",
    ")\n",
    "\n",
    "print(get_vertex_response(benchmark_item))"
   ]
  },
  {
   "cell_type": "markdown",
   "metadata": {},
   "source": [
    "##### Run through all the questions"
   ]
  },
  {
   "cell_type": "code",
   "execution_count": 24,
   "metadata": {},
   "outputs": [
    {
     "name": "stderr",
     "output_type": "stream",
     "text": [
      "100%|██████████████████████████████████████████████████████████████████████████████████████████████████████████████████████████████████████████████████████████████████████████████████████████████| 55/55 [00:24<00:00,  2.24it/s]\n"
     ]
    }
   ],
   "source": [
    "with ThreadPoolExecutor(max_workers=10) as executor:\n",
    "    raw_vertex_responses = list(tqdm(executor.map(get_vertex_response, benchmark.items), total=len(benchmark.items)))"
   ]
  },
  {
   "cell_type": "code",
   "execution_count": 25,
   "metadata": {},
   "outputs": [],
   "source": [
    "vertex_responses = [\n",
    "    LLMResponse(\n",
    "        llm_answer=r, llm_context_list=[], benchmark_item=bi\n",
    "    ) for r, bi in zip(raw_vertex_responses, benchmark.items)\n",
    "]"
   ]
  },
  {
   "cell_type": "code",
   "execution_count": 26,
   "metadata": {},
   "outputs": [],
   "source": [
    "scorer = ValidateScorer([AnswerSimilarityMetric()])\n",
    "vertex_run = scorer.score_run(vertex_responses)"
   ]
  },
  {
   "cell_type": "code",
   "execution_count": 28,
   "metadata": {},
   "outputs": [],
   "source": [
    "vertex_run_df = run_to_dataframe(vertex_run)\n",
    "vertex_run_df.to_csv(\"vertex_run.csv\", index=False)"
   ]
  },
  {
   "cell_type": "code",
   "execution_count": 29,
   "metadata": {},
   "outputs": [
    {
     "data": {
      "image/png": "[encoded data removed]",
      "text/plain": [
       "<Figure size 640x480 with 1 Axes>"
      ]
     },
     "metadata": {},
     "output_type": "display_data"
    }
   ],
   "source": [
    "vertex_answer_similarity_scores = pd.Series([x.scores[\"answer_similarity\"] for x in vertex_run.run_data])\n",
    "category_counts = vertex_answer_similarity_scores.value_counts()\n",
    "plt.bar(category_counts.index, category_counts.values)\n",
    "\n",
    "plt.title('Distribution of scores for Vertex')\n",
    "plt.xlabel('Score')\n",
    "plt.ylabel('Count')\n",
    "\n",
    "plt.bar(category_counts.index, category_counts.values, color='#A679C8')\n",
    "\n",
    "# Remove all scores except whole numbers\n",
    "plt.xticks(range(0, 6, 1))\n",
    "\n",
    "plt.show()"
   ]
  },
  {
   "cell_type": "markdown",
   "metadata": {},
   "source": [
    "### OpenAI Rag Assistant"
   ]
  },
  {
   "cell_type": "markdown",
   "metadata": {},
   "source": [
    "#### Setup"
   ]
  },
  {
   "cell_type": "code",
   "execution_count": 30,
   "metadata": {},
   "outputs": [],
   "source": [
    "def get_openai_rag_response(benchmarkItem: BenchmarkItem, assistant):\n",
    "    prompt = benchmarkItem.question    \n",
    "    thread = client.beta.threads.create(\n",
    "        messages=[\n",
    "            {\n",
    "                \"role\": \"user\",\n",
    "                \"content\": prompt\n",
    "            }\n",
    "        ]\n",
    "    )\n",
    "    run = client.beta.threads.runs.create(\n",
    "        thread_id=thread.id,\n",
    "        assistant_id=assistant.id,\n",
    "    )\n",
    "    max_retries = 10\n",
    "    base = 0.1\n",
    "    num_retries = 0\n",
    "    try:\n",
    "        while max_retries > 0:\n",
    "            if max_retries == 0:\n",
    "                client.beta.threads.delete(thread.id)\n",
    "                raise Exception(\"Max tries exceeded\")\n",
    "            messages = client.beta.threads.messages.list(\n",
    "                thread_id=thread.id,\n",
    "            )\n",
    "            if len(messages.data)>0 and len(messages.data[0].content)>0:\n",
    "                response_message = messages.data[0].content[0].text.value\n",
    "                if response_message != prompt and response_message.strip():\n",
    "                    annotations = messages.data[0].content[0].text.annotations\n",
    "                    quotes = [x.file_citation.quote for x in annotations if x.file_citation]\n",
    "                    client.beta.threads.delete(thread.id)\n",
    "                    return response_message\n",
    "            time.sleep(base * (2 ** num_retries))\n",
    "            num_retries += 1\n",
    "            max_retries -= 1\n",
    "    except Exception as e:\n",
    "        print(e)\n",
    "        client.beta.threads.delete(thread.id)\n",
    "        raise e\n",
    "\n",
    "#openai rag only supports a max of 20 files. So we just combine all essays into single file\n",
    "def upload_essay():\n",
    "    file_ids=[]\n",
    "    with open(\"all_essays_in_single_file.txt\", 'rb') as essay_file:\n",
    "        file = client.files.create(\n",
    "            file=essay_file,\n",
    "            purpose='assistants'\n",
    "        )   \n",
    "        file_ids.append(file.id)\n",
    "    return file_ids\n",
    "\n",
    "def create_assistant(file_ids):\n",
    "    return client.beta.assistants.create(\n",
    "        name=f\"OpenAI Rag Test {len(file_ids)} Files\",\n",
    "        instructions=(\n",
    "            \"You are a chatbot that answers questions about Paul Graham's essays. \"\n",
    "            \"Use your knowledge base to best respond to questions. \"\n",
    "            \"NO MATTER WHAT, DO NOT PULL INFORMATION FROM EXTERNAL KNOWLEDGE. ONLY USE YOUR OWN KNOWLEDGE BASE.\"\n",
    "        ),\n",
    "        model=\"gpt-4-1106-preview\",\n",
    "        tools=[{\"type\": \"retrieval\"}],\n",
    "        file_ids=file_ids\n",
    "    )\n",
    "\n",
    "def setup_assistant():\n",
    "    file_ids = upload_essay()\n",
    "    return create_assistant(file_ids)\n",
    "\n",
    "# WARNING\n",
    "# this deletes all files associated with your openai api key.\n",
    "#def cleanup_files():\n",
    "#    for f in client.files.list():\n",
    "#        client.files.delete(f.id)\n",
    "#        time.sleep(1)"
   ]
  },
  {
   "cell_type": "markdown",
   "metadata": {},
   "source": [
    "#### Testing"
   ]
  },
  {
   "cell_type": "code",
   "execution_count": 31,
   "metadata": {},
   "outputs": [],
   "source": [
    "client = OpenAI()\n",
    "assistant = setup_assistant()"
   ]
  },
  {
   "cell_type": "code",
   "execution_count": 32,
   "metadata": {},
   "outputs": [
    {
     "name": "stdout",
     "output_type": "stream",
     "text": [
      "According to Paul Graham, key components necessary to create a technology hub or attract the \"creative class\" include the following:\n",
      "\n",
      "1. **Personality and Character**: A town must have personality, which usually means avoiding mass-produced environments and having a variety of unique and densely packed buildings. Graham suggests that building codes should ensure density and ban large-scale developments【9†source】.\n",
      "\n",
      "2. **Right Personality for Nerds**: Since many technology hubs are formed by nerds, a city must appeal to their tastes, which differ from the rest of the creative class. Nerds tend to like places where people are friendlier and prefer quieter pleasures like cafes, bookshops, and areas with natural beauty. A nerd's idea of paradise would be places like Berkeley or Boulder【10†source】.\n",
      "\n",
      "3. **Youth Appeal**: Technology hubs tend to be youthful in feel and having an intact city center is important, as young people do not want to live in the suburbs. Boulder and Portland are cited as examples of cities with the kind of effervescent feel that attracts the young【10†source】.\n",
      "\n",
      "4. **Organic Growth**: You can't forcefully create a Silicon Valley; instead, a hub must grow organically. This usually starts with a few key people or companies that lay the groundwork, inspiring a self-sustaining chain reaction as people who work for startups launch or fund their own【10†source】.\n",
      "\n",
      "5. **Time**: The growth of a technology hub takes time, and cannot be rushed. It takes an average of about five years for a company to succeed, and this organic growth cycle is necessary for a community to develop the necessary expertise and culture of innovation【10†source】.\n",
      "\n",
      "In summary, a strong appeal to nerds and young people, an environment that fosters organic and unique development, combined with ample time for growth, are critical ingredients for creating a successful technology hub.\n"
     ]
    }
   ],
   "source": [
    "benchmark_item = BenchmarkItem(\n",
    "    question=\"What key components are necessary to create a technology hub according to Paul Graham?\",\n",
    "    answer=\"\"\n",
    ")\n",
    "\n",
    "print(get_openai_rag_response(benchmark_item, assistant))"
   ]
  },
  {
   "cell_type": "markdown",
   "metadata": {},
   "source": [
    "##### Run through all the questions"
   ]
  },
  {
   "cell_type": "code",
   "execution_count": 33,
   "metadata": {},
   "outputs": [
    {
     "name": "stderr",
     "output_type": "stream",
     "text": [
      "100%|██████████████████████████████████████████████████████████████████████████████████████████████████████████████████████████████████████████████████████████████████████████████████████████████| 55/55 [33:28<00:00, 36.51s/it]\n"
     ]
    }
   ],
   "source": [
    "raw_openai_responses = []\n",
    "for x in tqdm(benchmark.items):\n",
    "    raw_openai_responses.append(get_openai_rag_response(x, assistant))    "
   ]
  },
  {
   "cell_type": "code",
   "execution_count": 34,
   "metadata": {},
   "outputs": [],
   "source": [
    "openai_responses = [\n",
    "    LLMResponse(\n",
    "        llm_answer=r, llm_context_list=[], benchmark_item=bi\n",
    "    ) for r, bi in zip(raw_openai_responses, benchmark.items)\n",
    "]"
   ]
  },
  {
   "cell_type": "code",
   "execution_count": 35,
   "metadata": {},
   "outputs": [],
   "source": [
    "scorer = ValidateScorer([AnswerSimilarityMetric()])\n",
    "openai_run = scorer.score_run(openai_responses)"
   ]
  },
  {
   "cell_type": "code",
   "execution_count": 36,
   "metadata": {},
   "outputs": [],
   "source": [
    "openai_run_df = run_to_dataframe(openai_run)\n",
    "openai_run_df.to_csv(\"openai_run.csv\", index=False)"
   ]
  },
  {
   "cell_type": "code",
   "execution_count": 37,
   "metadata": {},
   "outputs": [
    {
     "data": {
      "image/png": "[encoded data removed]",
      "text/plain": [
       "<Figure size 640x480 with 1 Axes>"
      ]
     },
     "metadata": {},
     "output_type": "display_data"
    }
   ],
   "source": [
    "openai_answer_similarity_scores = pd.Series([x.scores[\"answer_similarity\"] for x in openai_run.run_data])\n",
    "category_counts = openai_answer_similarity_scores.value_counts()\n",
    "plt.bar(category_counts.index, category_counts.values)\n",
    "\n",
    "plt.title('Distribution of scores for OpenAI')\n",
    "plt.xlabel('Score')\n",
    "plt.ylabel('Count')\n",
    "\n",
    "plt.bar(category_counts.index, category_counts.values, color='#A679C8')\n",
    "\n",
    "# Remove all scores except whole numbers\n",
    "plt.xticks(range(0, 6, 1))\n",
    "\n",
    "plt.show()"
   ]
  },
  {
   "cell_type": "code",
   "execution_count": 38,
   "metadata": {},
   "outputs": [
    {
     "data": {
      "image/png": "[encoded data removed]",
      "text/plain": [
       "<Figure size 1000x500 with 1 Axes>"
      ]
     },
     "metadata": {},
     "output_type": "display_data"
    }
   ],
   "source": [
    "import matplotlib.pyplot as plt\n",
    "import numpy as np\n",
    "\n",
    "openai_run_df = pd.read_csv(\"openai_run.csv\")\n",
    "vertex_run_df = pd.read_csv(\"vertex_run.csv\")\n",
    "\n",
    "combined_scores = pd.DataFrame({\n",
    "    \"OpenAI\": list(openai_run_df[\"answer_similarity\"]),\n",
    "    \"Vertex\": list(vertex_run_df[\"answer_similarity\"])\n",
    "})\n",
    "\n",
    "# Position of bars on x-axis\n",
    "ind = np.arange(6)\n",
    "\n",
    "# Figure size\n",
    "plt.figure(figsize=(10,5))\n",
    "\n",
    "# Width of a bar \n",
    "width = 0.3\n",
    "\n",
    "openai_counts = combined_scores[\"OpenAI\"].value_counts().reindex([0,1,2,3,4,5], fill_value=0)\n",
    "plt.bar(openai_counts.index, openai_counts.values, width, label=\"OpenAI\", color=\"#5EA7EC\")\n",
    "\n",
    "vertex_counts = combined_scores[\"Vertex\"].value_counts().reindex([0,1,2,3,4,5], fill_value=0)\n",
    "plt.bar(vertex_counts.index + width, vertex_counts.values, width, label=\"Vertex\", color=\"#A679C8\")\n",
    "\n",
    "plt.title('Distribution of scores for OpenAI & Vertex')\n",
    "plt.xlabel('Answer Similarity Score')\n",
    "plt.ylabel('Count')\n",
    "\n",
    "# Remove all scores except whole numbers\n",
    "plt.xticks(ind + width / 2, range(0, 6, 1))\n",
    "\n",
    "plt.legend(loc='best')\n",
    "\n",
    "# Rounding the descriptive statistics to 3 significant figures\n",
    "statistics_df = combined_scores.describe()\n",
    "# Change 50% to 50% (median)\n",
    "statistics_df = statistics_df.rename(index={'50%': 'median'})\n",
    "rounded_statistics_df = statistics_df.round(3)\n",
    "\n",
    "# Transposing the descriptive statistics table for horizontal display\n",
    "rounded_statistics_df = rounded_statistics_df.T\n",
    "\n",
    "# Adding the table below the histogram\n",
    "table = plt.table(cellText=rounded_statistics_df.values,\n",
    "                  colWidths=[0.1] * len(rounded_statistics_df.columns),\n",
    "                  rowLabels=rounded_statistics_df.index,\n",
    "                  colLabels=rounded_statistics_df.columns,\n",
    "                  cellLoc = 'center', rowLoc = 'center',\n",
    "                  loc='bottom', bbox=[0.0, -0.5, 1.0, 0.3])\n",
    "\n",
    "plt.subplots_adjust(left=0.2, bottom=0.3)\n",
    "plt.savefig(\"openai_v_vertex.png\", facecolor='white', bbox_inches='tight')\n",
    "\n",
    "plt.show()"
   ]
  }
 ],
 "metadata": {
  "kernelspec": {
   "display_name": "Python 3 (ipykernel)",
   "language": "python",
   "name": "python3"
  },
  "language_info": {
   "codemirror_mode": {
    "name": "ipython",
    "version": 3
   },
   "file_extension": ".py",
   "mimetype": "text/x-python",
   "name": "python",
   "nbconvert_exporter": "python",
   "pygments_lexer": "ipython3",
   "version": "3.11.8"
  }
 },
 "nbformat": 4,
 "nbformat_minor": 4
}
